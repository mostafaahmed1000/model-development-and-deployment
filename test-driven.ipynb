{
 "cells": [
  {
   "cell_type": "markdown",
   "id": "2271075b",
   "metadata": {
    "deletable": true,
    "tags": []
   },
   "source": [
    "<font size=\"+3\"><strong>Test Driven Development</strong></font>"
   ]
  },
  {
   "cell_type": "markdown",
   "id": "d31ac132-2255-4533-8ba8-a3de3fc98f29",
   "metadata": {
    "deletable": true,
    "tags": []
   },
   "source": [
    "In this lesson, we have two goals. First, we'll build an `AlphaVantageAPI` class. Second, we'll create a `SQLRepository` class that will help us load our stock data into a SQLite database and then extract it for later use. Additionally, we'll build this code using a technique called **test driven development**, where we'll use `assert` statements to make sure everything is working properly. That way, we'll avoid issues later when we build our application."
   ]
  },
  {
   "cell_type": "code",
   "execution_count": 17,
   "id": "7457bb4a-c3d1-42c0-8b57-2b4872e5d3e3",
   "metadata": {
    "deletable": true,
    "tags": []
   },
   "outputs": [
    {
     "name": "stdout",
     "output_type": "stream",
     "text": [
      "The autoreload extension is already loaded. To reload it, use:\n",
      "  %reload_ext autoreload\n",
      "The sql extension is already loaded. To reload it, use:\n",
      "  %reload_ext sql\n"
     ]
    },
    {
     "data": {
      "text/html": [
       "\n",
       "<style>\n",
       "  \n",
       "  .checkmark {\n",
       "    width: 56px;\n",
       "    height: 56px;\n",
       "    border-radius: 50%;\n",
       "    display: block;\n",
       "    stroke-width: 2;\n",
       "    stroke: #fff;\n",
       "    stroke-miterlimit: 10;\n",
       "    box-shadow: inset 0px 0px 0px #7ac142;\n",
       "    animation: fill .4s ease-in-out .4s forwards, scale .3s ease-in-out .9s both;\n",
       "  }\n",
       "  \n",
       "  .checkmark__circle {\n",
       "    stroke-dasharray: 166;\n",
       "    stroke-dashoffset: 166;\n",
       "    stroke-width: 2;\n",
       "    stroke-miterlimit: 10;\n",
       "    stroke: #7ac142;\n",
       "    fill: none;\n",
       "    animation: stroke .6s cubic-bezier(0.650, 0.000, 0.450, 1.000) forwards;\n",
       "  }\n",
       "  \n",
       "  .checkmark__check {\n",
       "    transform-origin: 50% 50%;\n",
       "    stroke-dasharray: 48;\n",
       "    stroke-dashoffset: 48;\n",
       "    animation: stroke .3s cubic-bezier(0.650, 0.000, 0.450, 1.000) .8s forwards;\n",
       "  }\n",
       "  \n",
       "  .failmark {\n",
       "    width: 56px;\n",
       "    height: 56px;\n",
       "    border-radius: 50%;\n",
       "    display: block;\n",
       "    stroke-width: 2;\n",
       "    stroke: #fff;\n",
       "    stroke-miterlimit: 10;\n",
       "    box-shadow: inset 0px 0px 0px #F34811;\n",
       "    animation: failfill .4s ease-in-out .4s forwards, scale .3s ease-in-out .9s both;\n",
       "  }\n",
       "  \n",
       "  .failmark__circle {\n",
       "    stroke-dasharray: 166;\n",
       "    stroke-dashoffset: 166;\n",
       "    stroke-width: 2;\n",
       "    stroke-miterlimit: 10;\n",
       "    stroke: #F34811;\n",
       "    fill: none;\n",
       "    animation: stroke .6s cubic-bezier(0.650, 0.000, 0.450, 1.000) forwards;\n",
       "  }\n",
       "  \n",
       "  @keyframes stroke {\n",
       "    100% {\n",
       "      stroke-dashoffset: 0;\n",
       "    }\n",
       "  }\n",
       "  \n",
       "  @keyframes scale {\n",
       "    0%, 100% {\n",
       "      transform: none;\n",
       "    }\n",
       "    50% {\n",
       "      transform: scale3d(1.1, 1.1, 1);\n",
       "    }\n",
       "  }\n",
       "  \n",
       "  @keyframes fill {\n",
       "    100% {\n",
       "      box-shadow: inset 0px 0px 0px 30px #7ac142;\n",
       "    }\n",
       "  }\n",
       "  \n",
       "  @keyframes failfill {\n",
       "    100% {\n",
       "      box-shadow: inset 0px 0px 0px 30px #F34811;\n",
       "    }\n",
       "  }\n",
       "  \n",
       "  \n",
       "  .wqet-result {\n",
       "    width: 450px;\n",
       "    clear: both;\n",
       "  }\n",
       "  \n",
       "  .wqet-result .animation {\n",
       "    float: left;\n",
       "    width: 100px;\n",
       "  }\n",
       "  \n",
       "  .wqet-result .animation .checkmark,\n",
       "  .wqet-result .animation .failmark {\n",
       "    margin: 20px auto 20px auto;\n",
       "  }\n",
       "  \n",
       "  .wqet-result .details {\n",
       "    float: right;\n",
       "    width: 349px;\n",
       "    padding: 28px 0;\n",
       "  }\n",
       "  \n",
       "  .wqet-result .details .title {\n",
       "    font-weight: bold;\n",
       "    font-size: 110%;\n",
       "  }\n",
       "  .wqet-result .details p {\n",
       "    margin: 0;\n",
       "  }\n",
       "</style>\n"
      ],
      "text/plain": [
       "<IPython.core.display.HTML object>"
      ]
     },
     "metadata": {},
     "output_type": "display_data"
    }
   ],
   "source": [
    "%load_ext autoreload\n",
    "%load_ext sql\n",
    "%autoreload 2\n",
    "\n",
    "import sqlite3\n",
    "\n",
    "import matplotlib.pyplot as plt\n",
    "import pandas as pd\n",
    "from config import settings\n",
    "\n"
   ]
  },
  {
   "cell_type": "markdown",
   "id": "603adedd-56fa-44be-8e5b-c4a802fd1da6",
   "metadata": {
    "deletable": false,
    "editable": false
   },
   "source": [
    "# Building Our Data Module"
   ]
  },
  {
   "cell_type": "markdown",
   "id": "18b7926f-cf91-4835-bfe2-cb40ec52eff3",
   "metadata": {
    "deletable": true,
    "tags": []
   },
   "source": [
    "For our application, we're going to keep all the classes we use to extract, transform, and load data in a single module that we'll call `data`."
   ]
  },
  {
   "cell_type": "markdown",
   "id": "727cc9a0-4f06-4356-84fd-6024f6ac4421",
   "metadata": {
    "deletable": false,
    "editable": false
   },
   "source": [
    "## AlphaVantage API Class"
   ]
  },
  {
   "cell_type": "markdown",
   "id": "393281a3-373c-4b43-9918-2593d4e5eb07",
   "metadata": {
    "deletable": true,
    "tags": []
   },
   "source": [
    "* In the `data` module, create a class definition for `AlphaVantageAPI`. For now, making sure that it has an `__init__` method that attaches your API key as the attribute `__api_key`. Once you're done, import the class below and create an instance of it called `av`.\n"
   ]
  },
  {
   "cell_type": "code",
   "execution_count": 51,
   "id": "8c02dbac-7559-4db2-b0dd-b29c8fb623e1",
   "metadata": {
    "deletable": false
   },
   "outputs": [
    {
     "name": "stdout",
     "output_type": "stream",
     "text": [
      "av type: <class 'data.AlphaVantageAPI'>\n"
     ]
    }
   ],
   "source": [
    "# Import `AlphaVantageAPI`\n",
    "from data import AlphaVantageAPI\n",
    "\n",
    "# Create instance of `AlphaVantageAPI` class\n",
    "av = AlphaVantageAPI()\n",
    "\n",
    "print(\"av type:\", type(av))"
   ]
  },
  {
   "cell_type": "markdown",
   "id": "7e7017bd-fb32-42d2-a4a2-1b8b206efde0",
   "metadata": {
    "deletable": true,
    "tags": []
   },
   "source": [
    "* Create a `get_daily` method for your `AlphaVantageAPI` class. Once you're done, use the cell below to fetch the stock data for the renewable energy company [Suzlon](https://www.suzlon.com/) and assign it to the DataFrame `df_suzlon`.\n"
   ]
  },
  {
   "cell_type": "code",
   "execution_count": 19,
   "id": "d7659f8c-819a-4742-93e5-7b0dec31b808",
   "metadata": {
    "deletable": false
   },
   "outputs": [
    {
     "name": "stdout",
     "output_type": "stream",
     "text": [
      "df_suzlon type: <class 'pandas.core.frame.DataFrame'>\n",
      "df_suzlon shape: (4329, 5)\n"
     ]
    },
    {
     "data": {
      "text/html": [
       "<div>\n",
       "<style scoped>\n",
       "    .dataframe tbody tr th:only-of-type {\n",
       "        vertical-align: middle;\n",
       "    }\n",
       "\n",
       "    .dataframe tbody tr th {\n",
       "        vertical-align: top;\n",
       "    }\n",
       "\n",
       "    .dataframe thead th {\n",
       "        text-align: right;\n",
       "    }\n",
       "</style>\n",
       "<table border=\"1\" class=\"dataframe\">\n",
       "  <thead>\n",
       "    <tr style=\"text-align: right;\">\n",
       "      <th></th>\n",
       "      <th>open</th>\n",
       "      <th>high</th>\n",
       "      <th>low</th>\n",
       "      <th>close</th>\n",
       "      <th>volume</th>\n",
       "    </tr>\n",
       "    <tr>\n",
       "      <th>date</th>\n",
       "      <th></th>\n",
       "      <th></th>\n",
       "      <th></th>\n",
       "      <th></th>\n",
       "      <th></th>\n",
       "    </tr>\n",
       "  </thead>\n",
       "  <tbody>\n",
       "    <tr>\n",
       "      <th>2023-05-19</th>\n",
       "      <td>8.58</td>\n",
       "      <td>8.65</td>\n",
       "      <td>8.37</td>\n",
       "      <td>8.50</td>\n",
       "      <td>20942050.0</td>\n",
       "    </tr>\n",
       "    <tr>\n",
       "      <th>2023-05-18</th>\n",
       "      <td>8.82</td>\n",
       "      <td>8.97</td>\n",
       "      <td>8.42</td>\n",
       "      <td>8.55</td>\n",
       "      <td>27189939.0</td>\n",
       "    </tr>\n",
       "    <tr>\n",
       "      <th>2023-05-17</th>\n",
       "      <td>8.23</td>\n",
       "      <td>8.80</td>\n",
       "      <td>8.21</td>\n",
       "      <td>8.64</td>\n",
       "      <td>45845859.0</td>\n",
       "    </tr>\n",
       "    <tr>\n",
       "      <th>2023-05-16</th>\n",
       "      <td>8.27</td>\n",
       "      <td>8.32</td>\n",
       "      <td>8.19</td>\n",
       "      <td>8.22</td>\n",
       "      <td>15089860.0</td>\n",
       "    </tr>\n",
       "    <tr>\n",
       "      <th>2023-05-15</th>\n",
       "      <td>8.27</td>\n",
       "      <td>8.35</td>\n",
       "      <td>8.20</td>\n",
       "      <td>8.24</td>\n",
       "      <td>16903221.0</td>\n",
       "    </tr>\n",
       "  </tbody>\n",
       "</table>\n",
       "</div>"
      ],
      "text/plain": [
       "            open  high   low  close      volume\n",
       "date                                           \n",
       "2023-05-19  8.58  8.65  8.37   8.50  20942050.0\n",
       "2023-05-18  8.82  8.97  8.42   8.55  27189939.0\n",
       "2023-05-17  8.23  8.80  8.21   8.64  45845859.0\n",
       "2023-05-16  8.27  8.32  8.19   8.22  15089860.0\n",
       "2023-05-15  8.27  8.35  8.20   8.24  16903221.0"
      ]
     },
     "execution_count": 19,
     "metadata": {},
     "output_type": "execute_result"
    }
   ],
   "source": [
    "# Define Suzlon ticker symbol\n",
    "ticker = \"SUZLON.BSE\"\n",
    "\n",
    "# Use your `av` object to get daily data\n",
    "df_suzlon = av.get_daily(ticker=ticker)\n",
    "\n",
    "print(\"df_suzlon type:\", type(df_suzlon))\n",
    "print(\"df_suzlon shape:\", df_suzlon.shape)\n",
    "df_suzlon.head()"
   ]
  },
  {
   "cell_type": "markdown",
   "id": "d904c7f4-515b-4ccb-b29e-1aa46b370889",
   "metadata": {
    "deletable": true,
    "tags": []
   },
   "source": [
    "Okay! The next thing we need to do is test our new method to make sure it works the way we want it to. "
   ]
  },
  {
   "cell_type": "markdown",
   "id": "0cb9dd91-7734-4489-b887-ad096608fb48",
   "metadata": {
    "deletable": true,
    "tags": []
   },
   "source": [
    "* Create four assert statements to test the output of your `get_daily` method. Use the comments below as a guide.\n"
   ]
  },
  {
   "cell_type": "code",
   "execution_count": 4,
   "id": "abfe54a3-585b-46db-9b75-5e2c8fc73a31",
   "metadata": {
    "deletable": false
   },
   "outputs": [],
   "source": [
    "# Does `get_daily` return a DataFrame?\n",
    "assert isinstance(df_suzlon, pd.DataFrame), \"Output must be a DataFrame\"\n",
    "\n",
    "# Does DataFrame have 5 columns?\n",
    "assert df_suzlon.shape[1] == 5 \n",
    "\n",
    "# Does DataFrame have a DatetimeIndex?\n",
    "assert isinstance(df_suzlon.index, pd.DatetimeIndex), \"Output must be a DatetimeIndex\"\n",
    "\n",
    "# Is the index name \"date\"?\n",
    "assert df_suzlon.index.name == \"date\" "
   ]
  },
  {
   "cell_type": "markdown",
   "id": "d36acde5-df71-4ea1-a99e-3caa32c35dd6",
   "metadata": {
    "deletable": true,
    "tags": []
   },
   "source": [
    "* Create two more tests for the output of your `get_daily` method. Use the comments below as a guide.\n"
   ]
  },
  {
   "cell_type": "code",
   "execution_count": 5,
   "id": "98a10e7f-d01d-4ac1-be84-7ada5f3de346",
   "metadata": {
    "deletable": false
   },
   "outputs": [],
   "source": [
    "# Does DataFrame have correct column names?\n",
    "assert all(df_suzlon.columns == ['open', 'high', 'low', 'close', 'volume'])\n",
    "\n",
    "# Are columns correct data type?\n",
    "assert all(df_suzlon.dtypes == float)"
   ]
  },
  {
   "cell_type": "markdown",
   "id": "905320f3-19d6-4004-9953-5a695e27bf8e",
   "metadata": {
    "deletable": true,
    "tags": []
   },
   "source": [
    "Okay! Now that our `AlphaVantageAPI` is ready to get data, let's turn our focus to the class we'll need for storing our data in our SQLite database.<span style='color: transparent; font-size:1%'>WQU WorldQuant University Applied Data Science Lab QQQQ</span>"
   ]
  },
  {
   "cell_type": "markdown",
   "id": "d69dc9cf-3851-4edb-a152-03c53daf90d4",
   "metadata": {
    "deletable": false,
    "editable": false,
    "tags": []
   },
   "source": [
    "## SQL Repository Class"
   ]
  },
  {
   "cell_type": "markdown",
   "id": "bc1c1102-040c-4776-8cbf-cb1cefdeca17",
   "metadata": {
    "deletable": true,
    "tags": []
   },
   "source": [
    "It wouldn't be efficient if our application needed to get data from the AlphaVantage API every time we wanted to explore our data or build a model, so we'll need to store our data in a database. Because our data is highly structured (each DataFrame we extract from AlphaVantage is always going to have the same five columns), it makes sense to use a SQL database.\n",
    "\n",
    "We'll use SQLite for our database. For consistency, this database will always have the same name, which we've stored in our `.env` file."
   ]
  },
  {
   "cell_type": "markdown",
   "id": "1fa42d18-8b9d-4379-8d5c-76dea153d003",
   "metadata": {
    "deletable": true,
    "tags": []
   },
   "source": [
    "* Connect to the database whose name is stored in the `.env` file for this project. "
   ]
  },
  {
   "cell_type": "code",
   "execution_count": 20,
   "id": "348adcae-ef3e-4933-81b9-2fbc1ce42587",
   "metadata": {
    "deletable": false
   },
   "outputs": [
    {
     "name": "stdout",
     "output_type": "stream",
     "text": [
      "connection type: <class 'sqlite3.Connection'>\n"
     ]
    }
   ],
   "source": [
    "connection = sqlite3.connect(database=settings.db_name, check_same_thread=False)\n",
    "\n",
    "print(\"connection type:\", type(connection))"
   ]
  },
  {
   "cell_type": "markdown",
   "id": "71142242-06d8-47c4-9612-d79dd8e34c20",
   "metadata": {
    "deletable": true,
    "tags": []
   },
   "source": [
    "We've got a connection, and now we need to start building the class that will handle all our transactions with the database. With this class, though, we're going to create our tests *before* writing the class definition."
   ]
  },
  {
   "cell_type": "markdown",
   "id": "14fb7efd-beb7-4712-b126-4e2248a7de76",
   "metadata": {
    "deletable": true,
    "tags": []
   },
   "source": [
    "* Write two tests for the `SQLRepository` class, using the comments below as a guide.\n"
   ]
  },
  {
   "cell_type": "code",
   "execution_count": 15,
   "id": "f443ad9f-6b93-4c97-b525-1168921a4ee7",
   "metadata": {
    "deletable": false
   },
   "outputs": [],
   "source": [
    "# Import class definition\n",
    "from data import SQLRepository\n",
    "\n",
    "# Create instance of class\n",
    "repo = SQLRepository(connection=connection)\n",
    "\n",
    "# Does `repo` have a \"connection\" attribute?\n",
    "assert hasattr(repo, \"connection\")\n",
    "\n",
    "# Is the \"connection\" attribute a SQLite `Connection`?\n",
    "assert isinstance(repo.connection, sqlite3.Connection)"
   ]
  },
  {
   "cell_type": "markdown",
   "id": "e3fe6a9e-c8c8-4a1f-b6e0-8bec234691d0",
   "metadata": {
    "deletable": true,
    "tags": []
   },
   "source": [
    "* Create a definition for your `SQLRepository` class. For now, just complete the `__init__` method. Once you're done, use the code you wrote in the previous task to test it.\n"
   ]
  },
  {
   "cell_type": "markdown",
   "id": "ac9d773d-4ed7-4fb7-8bcd-09cae0774ffb",
   "metadata": {
    "deletable": true,
    "tags": []
   },
   "source": [
    "The next method we need for the `SQLRepository` class is one that allows us to store information. In SQL talk, this is generally referred to as **inserting** tables into the database."
   ]
  },
  {
   "cell_type": "markdown",
   "id": "ae1fd1a0-a8bc-4c38-8239-9d3f40b34dad",
   "metadata": {
    "deletable": true,
    "tags": []
   },
   "source": [
    "* Add an `insert_table` method to your `SQLRepository` class. As a guide use the assert statements below and the docstring in the `data` module. When you're done, run the cell below to check your work.\n"
   ]
  },
  {
   "cell_type": "code",
   "execution_count": 23,
   "id": "2210e278-a640-41e7-b1a1-8aaa357d9d2e",
   "metadata": {
    "deletable": false
   },
   "outputs": [],
   "source": [
    "response = repo.insert_table(table_name=ticker, records=df_suzlon, if_exists=\"replace\")\n",
    "\n",
    "# Does your method return a dictionary?\n",
    "assert isinstance(response, dict)\n",
    "\n",
    "# Are the keys of that dictionary correct?\n",
    "assert sorted(list(response.keys())) == [\"records_inserted\", \"transaction_successful\"]"
   ]
  },
  {
   "cell_type": "markdown",
   "id": "7a23e148-e5ff-4f06-b708-9efed1306c10",
   "metadata": {
    "deletable": true,
    "tags": []
   },
   "source": [
    "If our method is passing the assert statements, we know it's returning a record of the database transaction, but we still need to check whether the data has actually been added to the database."
   ]
  },
  {
   "cell_type": "markdown",
   "id": "e955cbbb-01cc-4c2d-8daf-16288aa250db",
   "metadata": {
    "deletable": true,
    "tags": []
   },
   "source": [
    "* Write a SQL query to get the **first five rows** of the table of Suzlon data you just inserted into the database.\n"
   ]
  },
  {
   "cell_type": "code",
   "execution_count": null,
   "id": "7757a902-f0eb-4dfe-a11f-a4bc328ceb69",
   "metadata": {
    "deletable": false
   },
   "outputs": [],
   "source": [
    "\n",
    "%sql sqlite:////home/jovyan/work/ds-curriculum/volatility-forecasting-in-india/stocks.sqlite"
   ]
  },
  {
   "cell_type": "code",
   "execution_count": 26,
   "id": "9d49b614-60bf-4759-a18f-71361ce2a88c",
   "metadata": {
    "deletable": false
   },
   "outputs": [
    {
     "name": "stdout",
     "output_type": "stream",
     "text": [
      " * sqlite:////home/jovyan/work/ds-curriculum/080-volatility-forecasting-in-india/stocks.sqlite\n",
      "Done.\n"
     ]
    },
    {
     "data": {
      "text/html": [
       "<table>\n",
       "    <thead>\n",
       "        <tr>\n",
       "            <th>date</th>\n",
       "            <th>open</th>\n",
       "            <th>high</th>\n",
       "            <th>low</th>\n",
       "            <th>close</th>\n",
       "            <th>volume</th>\n",
       "        </tr>\n",
       "    </thead>\n",
       "    <tbody>\n",
       "        <tr>\n",
       "            <td>2023-05-19 00:00:00</td>\n",
       "            <td>8.58</td>\n",
       "            <td>8.65</td>\n",
       "            <td>8.37</td>\n",
       "            <td>8.5</td>\n",
       "            <td>20942050.0</td>\n",
       "        </tr>\n",
       "        <tr>\n",
       "            <td>2023-05-18 00:00:00</td>\n",
       "            <td>8.82</td>\n",
       "            <td>8.97</td>\n",
       "            <td>8.42</td>\n",
       "            <td>8.55</td>\n",
       "            <td>27189939.0</td>\n",
       "        </tr>\n",
       "        <tr>\n",
       "            <td>2023-05-17 00:00:00</td>\n",
       "            <td>8.23</td>\n",
       "            <td>8.8</td>\n",
       "            <td>8.21</td>\n",
       "            <td>8.64</td>\n",
       "            <td>45845859.0</td>\n",
       "        </tr>\n",
       "        <tr>\n",
       "            <td>2023-05-16 00:00:00</td>\n",
       "            <td>8.27</td>\n",
       "            <td>8.32</td>\n",
       "            <td>8.19</td>\n",
       "            <td>8.22</td>\n",
       "            <td>15089860.0</td>\n",
       "        </tr>\n",
       "        <tr>\n",
       "            <td>2023-05-15 00:00:00</td>\n",
       "            <td>8.27</td>\n",
       "            <td>8.35</td>\n",
       "            <td>8.2</td>\n",
       "            <td>8.24</td>\n",
       "            <td>16903221.0</td>\n",
       "        </tr>\n",
       "    </tbody>\n",
       "</table>"
      ],
      "text/plain": [
       "[('2023-05-19 00:00:00', 8.58, 8.65, 8.37, 8.5, 20942050.0),\n",
       " ('2023-05-18 00:00:00', 8.82, 8.97, 8.42, 8.55, 27189939.0),\n",
       " ('2023-05-17 00:00:00', 8.23, 8.8, 8.21, 8.64, 45845859.0),\n",
       " ('2023-05-16 00:00:00', 8.27, 8.32, 8.19, 8.22, 15089860.0),\n",
       " ('2023-05-15 00:00:00', 8.27, 8.35, 8.2, 8.24, 16903221.0)]"
      ]
     },
     "execution_count": 26,
     "metadata": {},
     "output_type": "execute_result"
    }
   ],
   "source": [
    "%%sql\n",
    "SELECT *\n",
    "FROM 'SUZLON.BSE'\n",
    "LIMIT 5\n"
   ]
  },
  {
   "cell_type": "markdown",
   "id": "1f599a58-461c-4dae-9372-328f4241aa29",
   "metadata": {
    "deletable": true,
    "tags": []
   },
   "source": [
    "We can get **insert** data into our database, but let's not forget that we need to **read** data from it, too. Reading will be a little more complex than inserting, so let's start by writing code in this notebook before we incorporate it into our `SQLRepository` class."
   ]
  },
  {
   "cell_type": "markdown",
   "id": "141e2c94-3a4f-4d8b-a84c-3cfb814d90ce",
   "metadata": {
    "deletable": true,
    "tags": []
   },
   "source": [
    "* First, write a SQL query to get **all** the Suzlon data. Then use pandas to extract the data from the database and read it into a DataFrame, names `df_suzlon_test`."
   ]
  },
  {
   "cell_type": "code",
   "execution_count": 30,
   "id": "088da36d-e462-4be4-9f1a-c52586efce5a",
   "metadata": {
    "deletable": false
   },
   "outputs": [
    {
     "name": "stdout",
     "output_type": "stream",
     "text": [
      "df_suzlon_test type: <class 'pandas.core.frame.DataFrame'>\n",
      "\n",
      "<class 'pandas.core.frame.DataFrame'>\n",
      "DatetimeIndex: 4329 entries, 2023-05-19 to 2005-10-20\n",
      "Data columns (total 5 columns):\n",
      " #   Column  Non-Null Count  Dtype  \n",
      "---  ------  --------------  -----  \n",
      " 0   open    4329 non-null   float64\n",
      " 1   high    4329 non-null   float64\n",
      " 2   low     4329 non-null   float64\n",
      " 3   close   4329 non-null   float64\n",
      " 4   volume  4329 non-null   float64\n",
      "dtypes: float64(5)\n",
      "memory usage: 202.9 KB\n",
      "None\n"
     ]
    },
    {
     "data": {
      "text/html": [
       "<div>\n",
       "<style scoped>\n",
       "    .dataframe tbody tr th:only-of-type {\n",
       "        vertical-align: middle;\n",
       "    }\n",
       "\n",
       "    .dataframe tbody tr th {\n",
       "        vertical-align: top;\n",
       "    }\n",
       "\n",
       "    .dataframe thead th {\n",
       "        text-align: right;\n",
       "    }\n",
       "</style>\n",
       "<table border=\"1\" class=\"dataframe\">\n",
       "  <thead>\n",
       "    <tr style=\"text-align: right;\">\n",
       "      <th></th>\n",
       "      <th>open</th>\n",
       "      <th>high</th>\n",
       "      <th>low</th>\n",
       "      <th>close</th>\n",
       "      <th>volume</th>\n",
       "    </tr>\n",
       "    <tr>\n",
       "      <th>date</th>\n",
       "      <th></th>\n",
       "      <th></th>\n",
       "      <th></th>\n",
       "      <th></th>\n",
       "      <th></th>\n",
       "    </tr>\n",
       "  </thead>\n",
       "  <tbody>\n",
       "    <tr>\n",
       "      <th>2023-05-19</th>\n",
       "      <td>8.58</td>\n",
       "      <td>8.65</td>\n",
       "      <td>8.37</td>\n",
       "      <td>8.50</td>\n",
       "      <td>20942050.0</td>\n",
       "    </tr>\n",
       "    <tr>\n",
       "      <th>2023-05-18</th>\n",
       "      <td>8.82</td>\n",
       "      <td>8.97</td>\n",
       "      <td>8.42</td>\n",
       "      <td>8.55</td>\n",
       "      <td>27189939.0</td>\n",
       "    </tr>\n",
       "    <tr>\n",
       "      <th>2023-05-17</th>\n",
       "      <td>8.23</td>\n",
       "      <td>8.80</td>\n",
       "      <td>8.21</td>\n",
       "      <td>8.64</td>\n",
       "      <td>45845859.0</td>\n",
       "    </tr>\n",
       "    <tr>\n",
       "      <th>2023-05-16</th>\n",
       "      <td>8.27</td>\n",
       "      <td>8.32</td>\n",
       "      <td>8.19</td>\n",
       "      <td>8.22</td>\n",
       "      <td>15089860.0</td>\n",
       "    </tr>\n",
       "    <tr>\n",
       "      <th>2023-05-15</th>\n",
       "      <td>8.27</td>\n",
       "      <td>8.35</td>\n",
       "      <td>8.20</td>\n",
       "      <td>8.24</td>\n",
       "      <td>16903221.0</td>\n",
       "    </tr>\n",
       "  </tbody>\n",
       "</table>\n",
       "</div>"
      ],
      "text/plain": [
       "            open  high   low  close      volume\n",
       "date                                           \n",
       "2023-05-19  8.58  8.65  8.37   8.50  20942050.0\n",
       "2023-05-18  8.82  8.97  8.42   8.55  27189939.0\n",
       "2023-05-17  8.23  8.80  8.21   8.64  45845859.0\n",
       "2023-05-16  8.27  8.32  8.19   8.22  15089860.0\n",
       "2023-05-15  8.27  8.35  8.20   8.24  16903221.0"
      ]
     },
     "execution_count": 30,
     "metadata": {},
     "output_type": "execute_result"
    }
   ],
   "source": [
    "sql = \"SELECT * FROM 'SUZLON.BSE'\"\n",
    "df_suzlon_test = pd.read_sql(sql=sql, con=connection, parse_dates=[\"date\"], index_col=\"date\" )\n",
    "\n",
    "print(\"df_suzlon_test type:\", type(df_suzlon_test))\n",
    "print()\n",
    "print(df_suzlon_test.info())\n",
    "df_suzlon_test.head()"
   ]
  },
  {
   "cell_type": "markdown",
   "id": "90924b2f",
   "metadata": {
    "deletable": true,
    "tags": []
   },
   "source": [
    "Now that we know how to read a table from our database, let's turn our code into a proper function. But since we're doing backwards designs, we need to start with our tests."
   ]
  },
  {
   "cell_type": "markdown",
   "id": "ba48f1ad-fc92-488b-9d79-368be138df52",
   "metadata": {
    "deletable": true,
    "tags": []
   },
   "source": [
    "* Complete the assert statements below to test your `read_table` function. Use the comments as a guide.\n"
   ]
  },
  {
   "cell_type": "code",
   "execution_count": 49,
   "id": "9d89c5e7-a3d8-4ce7-9dd1-654cab786e20",
   "metadata": {
    "deletable": false,
    "tags": [
     "raises-exception"
    ]
   },
   "outputs": [
    {
     "name": "stdout",
     "output_type": "stream",
     "text": [
      "df_suzlon shape: (2500, 5)\n",
      "\n",
      "<class 'pandas.core.frame.DataFrame'>\n",
      "DatetimeIndex: 2500 entries, 2023-05-19 to 2013-03-21\n",
      "Data columns (total 5 columns):\n",
      " #   Column  Non-Null Count  Dtype  \n",
      "---  ------  --------------  -----  \n",
      " 0   open    2500 non-null   float64\n",
      " 1   high    2500 non-null   float64\n",
      " 2   low     2500 non-null   float64\n",
      " 3   close   2500 non-null   float64\n",
      " 4   volume  2500 non-null   float64\n",
      "dtypes: float64(5)\n",
      "memory usage: 117.2 KB\n",
      "None\n"
     ]
    },
    {
     "data": {
      "text/html": [
       "<div>\n",
       "<style scoped>\n",
       "    .dataframe tbody tr th:only-of-type {\n",
       "        vertical-align: middle;\n",
       "    }\n",
       "\n",
       "    .dataframe tbody tr th {\n",
       "        vertical-align: top;\n",
       "    }\n",
       "\n",
       "    .dataframe thead th {\n",
       "        text-align: right;\n",
       "    }\n",
       "</style>\n",
       "<table border=\"1\" class=\"dataframe\">\n",
       "  <thead>\n",
       "    <tr style=\"text-align: right;\">\n",
       "      <th></th>\n",
       "      <th>open</th>\n",
       "      <th>high</th>\n",
       "      <th>low</th>\n",
       "      <th>close</th>\n",
       "      <th>volume</th>\n",
       "    </tr>\n",
       "    <tr>\n",
       "      <th>date</th>\n",
       "      <th></th>\n",
       "      <th></th>\n",
       "      <th></th>\n",
       "      <th></th>\n",
       "      <th></th>\n",
       "    </tr>\n",
       "  </thead>\n",
       "  <tbody>\n",
       "    <tr>\n",
       "      <th>2023-05-19</th>\n",
       "      <td>8.58</td>\n",
       "      <td>8.65</td>\n",
       "      <td>8.37</td>\n",
       "      <td>8.50</td>\n",
       "      <td>20942050.0</td>\n",
       "    </tr>\n",
       "    <tr>\n",
       "      <th>2023-05-18</th>\n",
       "      <td>8.82</td>\n",
       "      <td>8.97</td>\n",
       "      <td>8.42</td>\n",
       "      <td>8.55</td>\n",
       "      <td>27189939.0</td>\n",
       "    </tr>\n",
       "    <tr>\n",
       "      <th>2023-05-17</th>\n",
       "      <td>8.23</td>\n",
       "      <td>8.80</td>\n",
       "      <td>8.21</td>\n",
       "      <td>8.64</td>\n",
       "      <td>45845859.0</td>\n",
       "    </tr>\n",
       "    <tr>\n",
       "      <th>2023-05-16</th>\n",
       "      <td>8.27</td>\n",
       "      <td>8.32</td>\n",
       "      <td>8.19</td>\n",
       "      <td>8.22</td>\n",
       "      <td>15089860.0</td>\n",
       "    </tr>\n",
       "    <tr>\n",
       "      <th>2023-05-15</th>\n",
       "      <td>8.27</td>\n",
       "      <td>8.35</td>\n",
       "      <td>8.20</td>\n",
       "      <td>8.24</td>\n",
       "      <td>16903221.0</td>\n",
       "    </tr>\n",
       "  </tbody>\n",
       "</table>\n",
       "</div>"
      ],
      "text/plain": [
       "            open  high   low  close      volume\n",
       "date                                           \n",
       "2023-05-19  8.58  8.65  8.37   8.50  20942050.0\n",
       "2023-05-18  8.82  8.97  8.42   8.55  27189939.0\n",
       "2023-05-17  8.23  8.80  8.21   8.64  45845859.0\n",
       "2023-05-16  8.27  8.32  8.19   8.22  15089860.0\n",
       "2023-05-15  8.27  8.35  8.20   8.24  16903221.0"
      ]
     },
     "execution_count": 49,
     "metadata": {},
     "output_type": "execute_result"
    }
   ],
   "source": [
    "# Assign `read_table` output to `df_suzlon`\n",
    "df_suzlon = repo.read_table(table_name=\"SUZLON.BSE\", limit=2500)  # noQA F821\n",
    "\n",
    "# Is `df_suzlon` a DataFrame?\n",
    "assert isinstance(df_suzlon, pd.DataFrame)\n",
    "\n",
    "# Does it have a `DatetimeIndex`?\n",
    "assert isinstance(df_suzlon.index, pd.DatetimeIndex)\n",
    "\n",
    "# Is the index named \"date\"?\n",
    "assert df_suzlon.index.name == \"date\"\n",
    "\n",
    "# Does it have 2,500 rows and 5 columns?\n",
    "assert df_suzlon.shape == (2500, 5)\n",
    "\n",
    "# Are the column names correct?\n",
    "assert df_suzlon.columns.to_list() == ['open', 'high', 'low', 'close', 'volume']\n",
    "\n",
    "# Are the column data types correct?\n",
    "assert all(df_suzlon.dtypes == float)\n",
    "\n",
    "# Print `df_suzlon` info\n",
    "print(\"df_suzlon shape:\", df_suzlon.shape)\n",
    "print()\n",
    "print(df_suzlon.info())\n",
    "df_suzlon.head()"
   ]
  },
  {
   "cell_type": "markdown",
   "id": "23275ea4-d927-4491-8bca-cc67097cae7a",
   "metadata": {
    "deletable": true,
    "tags": []
   },
   "source": [
    "* Expand on the code you're written above to complete the `read_table` function below. Use the docstring as a guide."
   ]
  },
  {
   "cell_type": "code",
   "execution_count": 44,
   "id": "88dc894f-3953-4d6c-8d05-5ab0dd51ad95",
   "metadata": {
    "deletable": false
   },
   "outputs": [],
   "source": [
    "def read_table(table_name, limit=None):\n",
    "\n",
    "    \"\"\"Read table from database.\n",
    "\n",
    "    Parameters\n",
    "    ----------\n",
    "    table_name : str\n",
    "        Name of table in SQLite database.\n",
    "    limit : int, None, optional\n",
    "        Number of most recent records to retrieve. If `None`, all\n",
    "        records are retrieved. By default, `None`.\n",
    "\n",
    "    Returns\n",
    "    -------\n",
    "    pd.DataFrame\n",
    "        Index is DatetimeIndex \"date\". Columns are 'open', 'high',\n",
    "        'low', 'close', and 'volume'. All columns are numeric.\n",
    "    \"\"\"\n",
    "    # Create SQL query (with optional limit)\n",
    "    if limit:\n",
    "        sql = sql = f\"SELECT * FROM 'SUZLON.BSE' LIMIT {limit}\"\n",
    "    else:\n",
    "        sql = sql = f\"SELECT * FROM 'SUZLON.BSE'\"\n",
    "\n",
    "    # Retrieve data, read into DataFrame\n",
    "    df = pd.read_sql(sql=sql, con=connection, parse_dates=[\"date\"], index_col=\"date\" )\n",
    "\n",
    "\n",
    "    # Return DataFrame\n",
    "    return df"
   ]
  },
  {
   "cell_type": "markdown",
   "id": "b2fb4e46-3af8-489c-924c-a2ad9f973b37",
   "metadata": {
    "deletable": true,
    "tags": []
   },
   "source": [
    "* Turn the `read_table` function into a method for your `SQLRepository` class.\n"
   ]
  },
  {
   "cell_type": "markdown",
   "id": "0ce86bf2-4246-4f84-8f4e-c4b42acc7676",
   "metadata": {
    "deletable": true,
    "tags": []
   },
   "source": [
    "* Return and test your class method instead of your notebook function.\n"
   ]
  },
  {
   "cell_type": "markdown",
   "id": "95b3fb61-9b65-438f-8ed4-08b1e52e63cc",
   "metadata": {
    "deletable": false,
    "editable": false
   },
   "source": [
    "# Comparing Stock Returns"
   ]
  },
  {
   "cell_type": "markdown",
   "id": "90e82934-8192-43a2-a700-30a2fd64d678",
   "metadata": {
    "deletable": true,
    "tags": []
   },
   "source": [
    "We already have the data for Suzlon Energy in our database, but we need to add the data for Ambuja Cement before we can compare the two stocks."
   ]
  },
  {
   "cell_type": "markdown",
   "id": "7070d872-2f79-4a1b-bdf6-ac5b9354f9ec",
   "metadata": {
    "deletable": true,
    "tags": []
   },
   "source": [
    "* Use the instances of the `AlphaVantageAPI` and `SQLRepository` classes you created in this lesson (`av` and `repo`, respectively) to get the stock data for Ambuja Cement and read it into the database.\n"
   ]
  },
  {
   "cell_type": "code",
   "execution_count": 52,
   "id": "877ec8a6-1a9e-4ab5-b4d3-59e0248adaca",
   "metadata": {
    "deletable": false
   },
   "outputs": [
    {
     "data": {
      "text/plain": [
       "{'transaction_successful': True, 'records_inserted': 4529}"
      ]
     },
     "execution_count": 52,
     "metadata": {},
     "output_type": "execute_result"
    }
   ],
   "source": [
    "ticker = \"AMBUJACEM.BSE\"\n",
    "\n",
    "# Get Ambuja data using `av`\n",
    "ambuja_records = av.get_daily(ticker=ticker)\n",
    "\n",
    "# Insert `ambuja_records` database using `repo`\n",
    "response = repo.insert_table(table_name=ticker, records=ambuja_records, if_exists='replace')\n",
    "\n",
    "response"
   ]
  },
  {
   "cell_type": "markdown",
   "id": "006550f0-599d-47a7-ae8e-c59b21854809",
   "metadata": {
    "deletable": true,
    "tags": []
   },
   "source": [
    "Let's take a look at the data to make sure we're getting what we need."
   ]
  },
  {
   "cell_type": "markdown",
   "id": "111e376f-f8d6-454b-bffe-540d2e392371",
   "metadata": {
    "deletable": true,
    "tags": []
   },
   "source": [
    "* Using the `read_table` method you've added to your `SQLRepository`, extract the most recent 2,500 rows of data for Ambuja Cement from the database and assign the result to `df_ambuja`.\n"
   ]
  },
  {
   "cell_type": "code",
   "execution_count": 63,
   "id": "645a6c99-a4ac-4525-8876-cf9ca89cb4d6",
   "metadata": {
    "deletable": false
   },
   "outputs": [
    {
     "name": "stdout",
     "output_type": "stream",
     "text": [
      "df_ambuja type: <class 'pandas.core.frame.DataFrame'>\n",
      "df_ambuja shape: (2500, 5)\n"
     ]
    },
    {
     "data": {
      "text/html": [
       "<div>\n",
       "<style scoped>\n",
       "    .dataframe tbody tr th:only-of-type {\n",
       "        vertical-align: middle;\n",
       "    }\n",
       "\n",
       "    .dataframe tbody tr th {\n",
       "        vertical-align: top;\n",
       "    }\n",
       "\n",
       "    .dataframe thead th {\n",
       "        text-align: right;\n",
       "    }\n",
       "</style>\n",
       "<table border=\"1\" class=\"dataframe\">\n",
       "  <thead>\n",
       "    <tr style=\"text-align: right;\">\n",
       "      <th></th>\n",
       "      <th>open</th>\n",
       "      <th>high</th>\n",
       "      <th>low</th>\n",
       "      <th>close</th>\n",
       "      <th>volume</th>\n",
       "    </tr>\n",
       "    <tr>\n",
       "      <th>date</th>\n",
       "      <th></th>\n",
       "      <th></th>\n",
       "      <th></th>\n",
       "      <th></th>\n",
       "      <th></th>\n",
       "    </tr>\n",
       "  </thead>\n",
       "  <tbody>\n",
       "    <tr>\n",
       "      <th>2023-05-19</th>\n",
       "      <td>399.80</td>\n",
       "      <td>406.00</td>\n",
       "      <td>395.95</td>\n",
       "      <td>403.40</td>\n",
       "      <td>136994.0</td>\n",
       "    </tr>\n",
       "    <tr>\n",
       "      <th>2023-05-18</th>\n",
       "      <td>407.05</td>\n",
       "      <td>408.70</td>\n",
       "      <td>396.00</td>\n",
       "      <td>398.60</td>\n",
       "      <td>88430.0</td>\n",
       "    </tr>\n",
       "    <tr>\n",
       "      <th>2023-05-17</th>\n",
       "      <td>399.00</td>\n",
       "      <td>407.15</td>\n",
       "      <td>399.00</td>\n",
       "      <td>405.90</td>\n",
       "      <td>117387.0</td>\n",
       "    </tr>\n",
       "    <tr>\n",
       "      <th>2023-05-16</th>\n",
       "      <td>405.10</td>\n",
       "      <td>409.55</td>\n",
       "      <td>399.25</td>\n",
       "      <td>400.45</td>\n",
       "      <td>283291.0</td>\n",
       "    </tr>\n",
       "    <tr>\n",
       "      <th>2023-05-15</th>\n",
       "      <td>409.10</td>\n",
       "      <td>410.80</td>\n",
       "      <td>403.00</td>\n",
       "      <td>406.75</td>\n",
       "      <td>243622.0</td>\n",
       "    </tr>\n",
       "  </tbody>\n",
       "</table>\n",
       "</div>"
      ],
      "text/plain": [
       "              open    high     low   close    volume\n",
       "date                                                \n",
       "2023-05-19  399.80  406.00  395.95  403.40  136994.0\n",
       "2023-05-18  407.05  408.70  396.00  398.60   88430.0\n",
       "2023-05-17  399.00  407.15  399.00  405.90  117387.0\n",
       "2023-05-16  405.10  409.55  399.25  400.45  283291.0\n",
       "2023-05-15  409.10  410.80  403.00  406.75  243622.0"
      ]
     },
     "execution_count": 63,
     "metadata": {},
     "output_type": "execute_result"
    }
   ],
   "source": [
    "ticker = \"AMBUJACEM.BSE\"\n",
    "df_ambuja = repo.read_table(table_name=ticker, limit=2500)\n",
    "\n",
    "print(\"df_ambuja type:\", type(df_ambuja))\n",
    "print(\"df_ambuja shape:\", df_ambuja.shape)\n",
    "df_ambuja.head()"
   ]
  },
  {
   "cell_type": "markdown",
   "id": "a14158b0-ea28-4b0b-adb5-fc45103bd869",
   "metadata": {
    "deletable": true,
    "tags": []
   },
   "source": [
    "We've spent a lot of time so far looking at this data, but what does it actually represent? It turns out the stock market is a lot like any other market: people buy and sell goods. The prices of those goods can go up or down depending on factors like supply and demand. In the case of a stock market, the goods being sold are stocks (also called equities or securities), which represent an ownership stake in a corporation.\n",
    "\n",
    "During each trading day, the price of a stock will change, so when we're looking at whether a stock might be a good investment, we look at four types of numbers: open, high, low, close, volume. **Open** is exactly what it sounds like: the selling price of a share when the market opens for the day. Similarly, **close** is the selling price of a share when the market closes at the end of the day, and **high** and **low** are the respective maximum and minimum prices of a share over the course of the day. **Volume** is the number of shares of a given stock that have been bought and sold that day. Generally speaking, a firm whose shares have seen a high volume of trading will see more price variation of the course of the day than a firm whose shares have been more lightly traded.\n",
    "\n",
    "Let's visualize how the price of Ambuja Cement changes over the last decade."
   ]
  },
  {
   "cell_type": "markdown",
   "id": "efd079bf-b7c4-4b04-a583-50678306daaa",
   "metadata": {
    "deletable": true,
    "tags": []
   },
   "source": [
    "* Plot the closing price of `df_ambuja`. Be sure to label your axes and include a legend.\n"
   ]
  },
  {
   "cell_type": "code",
   "execution_count": 64,
   "id": "4904ceb7-832a-4cf3-bf99-6913d984f9f1",
   "metadata": {
    "deletable": false
   },
   "outputs": [
    {
     "data": {
      "text/plain": [
       "<matplotlib.legend.Legend at 0x7f977b8cda00>"
      ]
     },
     "execution_count": 64,
     "metadata": {},
     "output_type": "execute_result"
    },
    {
     "data": {
      "image/png": "[encoded data removed]",
      "text/plain": [
       "<Figure size 1080x432 with 1 Axes>"
      ]
     },
     "metadata": {
      "needs_background": "light"
     },
     "output_type": "display_data"
    }
   ],
   "source": [
    "fig, ax = plt.subplots(figsize=(15, 6))\n",
    "# Plot `df_ambuja` closing price\n",
    "df_ambuja[\"close\"].plot(ax=ax, label=\"AMBUJACEM\", color=\"C1\")\n",
    "\n",
    "# Label axes\n",
    "plt.xlabel(\"Date\")\n",
    "plt.ylabel(\"Closing Price\")\n",
    "\n",
    "\n",
    "# Add legend\n",
    "plt.legend()"
   ]
  },
  {
   "cell_type": "markdown",
   "id": "178995dd-eb82-49a4-90b7-978bb22ec100",
   "metadata": {
    "deletable": true,
    "tags": []
   },
   "source": [
    "Let's add the closing price of Suzlon to our graph so we can compare the two."
   ]
  },
  {
   "cell_type": "markdown",
   "id": "69c60268-0e80-4273-9687-7aae48197885",
   "metadata": {
    "deletable": true,
    "tags": []
   },
   "source": [
    "* Create a plot that shows the closing prices of `df_suzlon` and `df_ambuja`. Again, label your axes and include a legend.\n"
   ]
  },
  {
   "cell_type": "code",
   "execution_count": 66,
   "id": "a4b12ff3-d790-4ad2-b1f8-22e97a1149e4",
   "metadata": {
    "deletable": false
   },
   "outputs": [
    {
     "data": {
      "text/plain": [
       "<matplotlib.legend.Legend at 0x7f97730d4820>"
      ]
     },
     "execution_count": 66,
     "metadata": {},
     "output_type": "execute_result"
    },
    {
     "data": {
      "image/png": "[encoded data removed]",
      "text/plain": [
       "<Figure size 1080x432 with 1 Axes>"
      ]
     },
     "metadata": {
      "needs_background": "light"
     },
     "output_type": "display_data"
    }
   ],
   "source": [
    "fig, ax = plt.subplots(figsize=(15, 6))\n",
    "# Plot `df_suzlon` and `df_ambuja`\n",
    "df_suzlon[\"close\"].plot(ax=ax, label=\"SUZLON\")\n",
    "df_ambuja[\"close\"].plot(ax=ax, label=\"AMBUJACEM\")\n",
    "\n",
    "\n",
    "# Label axes\n",
    "plt.xlabel(\"Date\")\n",
    "plt.ylabel(\"Closing Price\")\n",
    "\n",
    "\n",
    "# Add legend\n",
    "plt.legend()"
   ]
  },
  {
   "cell_type": "markdown",
   "id": "f1f00230-e924-4cee-828d-ac69bff887c4",
   "metadata": {
    "deletable": true,
    "tags": []
   },
   "source": [
    "Looking at this plot, we might conclude that Ambuja Cement is a \"better\" stock than Suzlon energy because its price is higher. But price is just one factor that an investor must consider when creating an investment strategy. What is definitely true is that it's hard to do a head-to-head comparison of these two stocks because there's such a large price difference.\n",
    "\n",
    "One way in which investors compare stocks is by looking at their **returns** instead. A return is the change in value in an investment, represented as a percentage. So let's look at the daily returns for our two stocks."
   ]
  },
  {
   "cell_type": "markdown",
   "id": "d0e2da22-819d-4e67-8d20-8abe1d34c0c3",
   "metadata": {
    "deletable": true,
    "tags": []
   },
   "source": [
    "* Add a `\"return\"` column to `df_ambuja` that shows the percentage change in the `\"close\"` column from one day to the next.\n"
   ]
  },
  {
   "cell_type": "code",
   "execution_count": 70,
   "id": "00c4020b-5304-4b59-bcfc-ba90bd05e5ed",
   "metadata": {
    "deletable": false
   },
   "outputs": [
    {
     "name": "stdout",
     "output_type": "stream",
     "text": [
      "df_ambuja shape: (2500, 6)\n",
      "<class 'pandas.core.frame.DataFrame'>\n",
      "DatetimeIndex: 2500 entries, 2013-03-21 to 2023-05-19\n",
      "Data columns (total 6 columns):\n",
      " #   Column  Non-Null Count  Dtype  \n",
      "---  ------  --------------  -----  \n",
      " 0   open    2500 non-null   float64\n",
      " 1   high    2500 non-null   float64\n",
      " 2   low     2500 non-null   float64\n",
      " 3   close   2500 non-null   float64\n",
      " 4   volume  2500 non-null   float64\n",
      " 5   return  2499 non-null   float64\n",
      "dtypes: float64(6)\n",
      "memory usage: 136.7 KB\n",
      "None\n"
     ]
    },
    {
     "data": {
      "text/html": [
       "<div>\n",
       "<style scoped>\n",
       "    .dataframe tbody tr th:only-of-type {\n",
       "        vertical-align: middle;\n",
       "    }\n",
       "\n",
       "    .dataframe tbody tr th {\n",
       "        vertical-align: top;\n",
       "    }\n",
       "\n",
       "    .dataframe thead th {\n",
       "        text-align: right;\n",
       "    }\n",
       "</style>\n",
       "<table border=\"1\" class=\"dataframe\">\n",
       "  <thead>\n",
       "    <tr style=\"text-align: right;\">\n",
       "      <th></th>\n",
       "      <th>open</th>\n",
       "      <th>high</th>\n",
       "      <th>low</th>\n",
       "      <th>close</th>\n",
       "      <th>volume</th>\n",
       "      <th>return</th>\n",
       "    </tr>\n",
       "    <tr>\n",
       "      <th>date</th>\n",
       "      <th></th>\n",
       "      <th></th>\n",
       "      <th></th>\n",
       "      <th></th>\n",
       "      <th></th>\n",
       "      <th></th>\n",
       "    </tr>\n",
       "  </thead>\n",
       "  <tbody>\n",
       "    <tr>\n",
       "      <th>2013-03-21</th>\n",
       "      <td>175.50</td>\n",
       "      <td>177.80</td>\n",
       "      <td>167.75</td>\n",
       "      <td>168.80</td>\n",
       "      <td>197861.0</td>\n",
       "      <td>NaN</td>\n",
       "    </tr>\n",
       "    <tr>\n",
       "      <th>2013-03-22</th>\n",
       "      <td>168.80</td>\n",
       "      <td>177.00</td>\n",
       "      <td>168.80</td>\n",
       "      <td>175.70</td>\n",
       "      <td>128007.0</td>\n",
       "      <td>4.087678</td>\n",
       "    </tr>\n",
       "    <tr>\n",
       "      <th>2013-03-25</th>\n",
       "      <td>177.50</td>\n",
       "      <td>179.75</td>\n",
       "      <td>171.75</td>\n",
       "      <td>173.20</td>\n",
       "      <td>96112.0</td>\n",
       "      <td>-1.422880</td>\n",
       "    </tr>\n",
       "    <tr>\n",
       "      <th>2013-03-26</th>\n",
       "      <td>172.50</td>\n",
       "      <td>174.20</td>\n",
       "      <td>166.15</td>\n",
       "      <td>168.65</td>\n",
       "      <td>90063.0</td>\n",
       "      <td>-2.627021</td>\n",
       "    </tr>\n",
       "    <tr>\n",
       "      <th>2013-03-28</th>\n",
       "      <td>168.45</td>\n",
       "      <td>175.50</td>\n",
       "      <td>167.30</td>\n",
       "      <td>173.45</td>\n",
       "      <td>137255.0</td>\n",
       "      <td>2.846131</td>\n",
       "    </tr>\n",
       "  </tbody>\n",
       "</table>\n",
       "</div>"
      ],
      "text/plain": [
       "              open    high     low   close    volume    return\n",
       "date                                                          \n",
       "2013-03-21  175.50  177.80  167.75  168.80  197861.0       NaN\n",
       "2013-03-22  168.80  177.00  168.80  175.70  128007.0  4.087678\n",
       "2013-03-25  177.50  179.75  171.75  173.20   96112.0 -1.422880\n",
       "2013-03-26  172.50  174.20  166.15  168.65   90063.0 -2.627021\n",
       "2013-03-28  168.45  175.50  167.30  173.45  137255.0  2.846131"
      ]
     },
     "execution_count": 70,
     "metadata": {},
     "output_type": "execute_result"
    }
   ],
   "source": [
    "# Sort DataFrame ascending by date\n",
    "df_ambuja.sort_index(ascending=True, inplace=True)\n",
    "\n",
    "# Create \"return\" column\n",
    "df_ambuja[\"return\"] = df_ambuja[\"close\"].pct_change() * 100\n",
    "\n",
    "print(\"df_ambuja shape:\", df_ambuja.shape)\n",
    "print(df_ambuja.info())\n",
    "df_ambuja.head()"
   ]
  },
  {
   "cell_type": "markdown",
   "id": "7eb59639-3ea3-4519-a87f-0f723a1be4d5",
   "metadata": {
    "deletable": true,
    "tags": []
   },
   "source": [
    "* Add a `\"return\"` column to `df_suzlon`.\n"
   ]
  },
  {
   "cell_type": "code",
   "execution_count": 71,
   "id": "3076a820-add7-4541-95df-b4cda12c5fbc",
   "metadata": {
    "deletable": false
   },
   "outputs": [
    {
     "name": "stdout",
     "output_type": "stream",
     "text": [
      "df_suzlon shape: (2500, 6)\n",
      "<class 'pandas.core.frame.DataFrame'>\n",
      "DatetimeIndex: 2500 entries, 2013-03-21 to 2023-05-19\n",
      "Data columns (total 6 columns):\n",
      " #   Column  Non-Null Count  Dtype  \n",
      "---  ------  --------------  -----  \n",
      " 0   open    2500 non-null   float64\n",
      " 1   high    2500 non-null   float64\n",
      " 2   low     2500 non-null   float64\n",
      " 3   close   2500 non-null   float64\n",
      " 4   volume  2500 non-null   float64\n",
      " 5   return  2499 non-null   float64\n",
      "dtypes: float64(6)\n",
      "memory usage: 136.7 KB\n",
      "None\n"
     ]
    },
    {
     "data": {
      "text/html": [
       "<div>\n",
       "<style scoped>\n",
       "    .dataframe tbody tr th:only-of-type {\n",
       "        vertical-align: middle;\n",
       "    }\n",
       "\n",
       "    .dataframe tbody tr th {\n",
       "        vertical-align: top;\n",
       "    }\n",
       "\n",
       "    .dataframe thead th {\n",
       "        text-align: right;\n",
       "    }\n",
       "</style>\n",
       "<table border=\"1\" class=\"dataframe\">\n",
       "  <thead>\n",
       "    <tr style=\"text-align: right;\">\n",
       "      <th></th>\n",
       "      <th>open</th>\n",
       "      <th>high</th>\n",
       "      <th>low</th>\n",
       "      <th>close</th>\n",
       "      <th>volume</th>\n",
       "      <th>return</th>\n",
       "    </tr>\n",
       "    <tr>\n",
       "      <th>date</th>\n",
       "      <th></th>\n",
       "      <th></th>\n",
       "      <th></th>\n",
       "      <th></th>\n",
       "      <th></th>\n",
       "      <th></th>\n",
       "    </tr>\n",
       "  </thead>\n",
       "  <tbody>\n",
       "    <tr>\n",
       "      <th>2013-03-21</th>\n",
       "      <td>14.35</td>\n",
       "      <td>14.45</td>\n",
       "      <td>13.55</td>\n",
       "      <td>13.60</td>\n",
       "      <td>9319040.0</td>\n",
       "      <td>NaN</td>\n",
       "    </tr>\n",
       "    <tr>\n",
       "      <th>2013-03-22</th>\n",
       "      <td>13.60</td>\n",
       "      <td>13.90</td>\n",
       "      <td>13.20</td>\n",
       "      <td>13.35</td>\n",
       "      <td>8495153.0</td>\n",
       "      <td>-1.838235</td>\n",
       "    </tr>\n",
       "    <tr>\n",
       "      <th>2013-03-25</th>\n",
       "      <td>13.95</td>\n",
       "      <td>14.20</td>\n",
       "      <td>13.30</td>\n",
       "      <td>13.45</td>\n",
       "      <td>8679423.0</td>\n",
       "      <td>0.749064</td>\n",
       "    </tr>\n",
       "    <tr>\n",
       "      <th>2013-03-26</th>\n",
       "      <td>13.50</td>\n",
       "      <td>13.85</td>\n",
       "      <td>13.35</td>\n",
       "      <td>13.50</td>\n",
       "      <td>4708122.0</td>\n",
       "      <td>0.371747</td>\n",
       "    </tr>\n",
       "    <tr>\n",
       "      <th>2013-03-28</th>\n",
       "      <td>13.50</td>\n",
       "      <td>13.80</td>\n",
       "      <td>13.30</td>\n",
       "      <td>13.65</td>\n",
       "      <td>2913515.0</td>\n",
       "      <td>1.111111</td>\n",
       "    </tr>\n",
       "  </tbody>\n",
       "</table>\n",
       "</div>"
      ],
      "text/plain": [
       "             open   high    low  close     volume    return\n",
       "date                                                       \n",
       "2013-03-21  14.35  14.45  13.55  13.60  9319040.0       NaN\n",
       "2013-03-22  13.60  13.90  13.20  13.35  8495153.0 -1.838235\n",
       "2013-03-25  13.95  14.20  13.30  13.45  8679423.0  0.749064\n",
       "2013-03-26  13.50  13.85  13.35  13.50  4708122.0  0.371747\n",
       "2013-03-28  13.50  13.80  13.30  13.65  2913515.0  1.111111"
      ]
     },
     "execution_count": 71,
     "metadata": {},
     "output_type": "execute_result"
    }
   ],
   "source": [
    "# Sort DataFrame ascending by date\n",
    "df_suzlon.sort_index(ascending=True, inplace=True)\n",
    "\n",
    "# Create \"return\" column\n",
    "df_suzlon[\"return\"] = df_suzlon[\"close\"].pct_change() * 100\n",
    "\n",
    "\n",
    "print(\"df_suzlon shape:\", df_suzlon.shape)\n",
    "print(df_suzlon.info())\n",
    "df_suzlon.head()"
   ]
  },
  {
   "cell_type": "markdown",
   "id": "e04ec796-6fda-416a-9257-11dddae0b628",
   "metadata": {
    "deletable": true,
    "tags": []
   },
   "source": [
    "Now let's plot the returns for our two companies and see how the two compare."
   ]
  },
  {
   "cell_type": "markdown",
   "id": "d85d36bb-6b5c-4f31-a8af-47240071ee6b",
   "metadata": {
    "deletable": true,
    "tags": []
   },
   "source": [
    "* Plot the returns for `df_suzlon` and `df_ambuja`. Be sure to label your axes and use legend.\n"
   ]
  },
  {
   "cell_type": "code",
   "execution_count": 77,
   "id": "d95138c2-4fc2-4b42-96f2-62ab7e9ab874",
   "metadata": {
    "deletable": false
   },
   "outputs": [
    {
     "data": {
      "text/plain": [
       "Text(0, 0.5, 'Daily Return')"
      ]
     },
     "execution_count": 77,
     "metadata": {},
     "output_type": "execute_result"
    },
    {
     "data": {
      "image/png": "[encoded data removed]",
      "text/plain": [
       "<Figure size 1080x432 with 1 Axes>"
      ]
     },
     "metadata": {
      "needs_background": "light"
     },
     "output_type": "display_data"
    }
   ],
   "source": [
    "fig, ax = plt.subplots(figsize=(15, 6))\n",
    "# Plot returns for `df_suzlon` and `df_ambuja`\n",
    "df_suzlon[\"return\"].plot(ax=ax, label=\"SUZLON\")\n",
    "df_ambuja[\"return\"].plot(ax=ax, label=\"AMBUJACEM\")\n",
    "\n",
    "\n",
    "# Label axes\n",
    "plt.xlabel(\"Date\")\n",
    "plt.ylabel(\"Daily Return\")"
   ]
  },
  {
   "cell_type": "markdown",
   "id": "6cd81a16-179a-47b2-8ab5-532f19cbf55a",
   "metadata": {
    "deletable": true,
    "tags": []
   },
   "source": [
    "Success! By representing returns as a percentage, we're able to compare two stocks that have very different prices. But what is this visualization telling us? We can see that the returns for Suzlon have a wider spread. We see big gains and big losses. In contrast, the spread for Ambuja is narrower, meaning that the price doesn't fluctuate as much. \n",
    "\n",
    "Another name for this day-to-day fluctuation in returns is called **volatility**, which is another important factor for investors. So in the next lesson, we'll learn more about volatility and then build a time series model to predict it."
   ]
  },
  {
   "cell_type": "code",
   "execution_count": null,
   "id": "114a860a-a75a-40e2-81f3-10d9f926c0de",
   "metadata": {},
   "outputs": [],
   "source": []
  }
 ],
 "metadata": {
  "kernelspec": {
   "display_name": "Python 3",
   "language": "python",
   "name": "python3"
  },
  "language_info": {
   "codemirror_mode": {
    "name": "ipython",
    "version": 3
   },
   "file_extension": ".py",
   "mimetype": "text/x-python",
   "name": "python",
   "nbconvert_exporter": "python",
   "pygments_lexer": "ipython3",
   "version": "3.8.2"
  },
  "toc-autonumbering": false,
  "toc-showmarkdowntxt": false,
  "widgets": {
   "application/vnd.jupyter.widget-state+json": {
    "state": {},
    "version_major": 2,
    "version_minor": 0
   }
  }
 },
 "nbformat": 4,
 "nbformat_minor": 5
}
