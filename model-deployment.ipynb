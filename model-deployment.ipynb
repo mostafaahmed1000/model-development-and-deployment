{
 "cells": [
  {
   "cell_type": "code",
   "execution_count": 1,
   "id": "c7bb7093-1121-4333-967a-bc205b647c95",
   "metadata": {
    "deletable": true,
    "tags": []
   },
   "outputs": [
    {
     "data": {
      "text/html": [
       "\n",
       "<style>\n",
       "  \n",
       "  .checkmark {\n",
       "    width: 56px;\n",
       "    height: 56px;\n",
       "    border-radius: 50%;\n",
       "    display: block;\n",
       "    stroke-width: 2;\n",
       "    stroke: #fff;\n",
       "    stroke-miterlimit: 10;\n",
       "    box-shadow: inset 0px 0px 0px #7ac142;\n",
       "    animation: fill .4s ease-in-out .4s forwards, scale .3s ease-in-out .9s both;\n",
       "  }\n",
       "  \n",
       "  .checkmark__circle {\n",
       "    stroke-dasharray: 166;\n",
       "    stroke-dashoffset: 166;\n",
       "    stroke-width: 2;\n",
       "    stroke-miterlimit: 10;\n",
       "    stroke: #7ac142;\n",
       "    fill: none;\n",
       "    animation: stroke .6s cubic-bezier(0.650, 0.000, 0.450, 1.000) forwards;\n",
       "  }\n",
       "  \n",
       "  .checkmark__check {\n",
       "    transform-origin: 50% 50%;\n",
       "    stroke-dasharray: 48;\n",
       "    stroke-dashoffset: 48;\n",
       "    animation: stroke .3s cubic-bezier(0.650, 0.000, 0.450, 1.000) .8s forwards;\n",
       "  }\n",
       "  \n",
       "  .failmark {\n",
       "    width: 56px;\n",
       "    height: 56px;\n",
       "    border-radius: 50%;\n",
       "    display: block;\n",
       "    stroke-width: 2;\n",
       "    stroke: #fff;\n",
       "    stroke-miterlimit: 10;\n",
       "    box-shadow: inset 0px 0px 0px #F34811;\n",
       "    animation: failfill .4s ease-in-out .4s forwards, scale .3s ease-in-out .9s both;\n",
       "  }\n",
       "  \n",
       "  .failmark__circle {\n",
       "    stroke-dasharray: 166;\n",
       "    stroke-dashoffset: 166;\n",
       "    stroke-width: 2;\n",
       "    stroke-miterlimit: 10;\n",
       "    stroke: #F34811;\n",
       "    fill: none;\n",
       "    animation: stroke .6s cubic-bezier(0.650, 0.000, 0.450, 1.000) forwards;\n",
       "  }\n",
       "  \n",
       "  @keyframes stroke {\n",
       "    100% {\n",
       "      stroke-dashoffset: 0;\n",
       "    }\n",
       "  }\n",
       "  \n",
       "  @keyframes scale {\n",
       "    0%, 100% {\n",
       "      transform: none;\n",
       "    }\n",
       "    50% {\n",
       "      transform: scale3d(1.1, 1.1, 1);\n",
       "    }\n",
       "  }\n",
       "  \n",
       "  @keyframes fill {\n",
       "    100% {\n",
       "      box-shadow: inset 0px 0px 0px 30px #7ac142;\n",
       "    }\n",
       "  }\n",
       "  \n",
       "  @keyframes failfill {\n",
       "    100% {\n",
       "      box-shadow: inset 0px 0px 0px 30px #F34811;\n",
       "    }\n",
       "  }\n",
       "  \n",
       "  \n",
       "  .wqet-result {\n",
       "    width: 450px;\n",
       "    clear: both;\n",
       "  }\n",
       "  \n",
       "  .wqet-result .animation {\n",
       "    float: left;\n",
       "    width: 100px;\n",
       "  }\n",
       "  \n",
       "  .wqet-result .animation .checkmark,\n",
       "  .wqet-result .animation .failmark {\n",
       "    margin: 20px auto 20px auto;\n",
       "  }\n",
       "  \n",
       "  .wqet-result .details {\n",
       "    float: right;\n",
       "    width: 349px;\n",
       "    padding: 28px 0;\n",
       "  }\n",
       "  \n",
       "  .wqet-result .details .title {\n",
       "    font-weight: bold;\n",
       "    font-size: 110%;\n",
       "  }\n",
       "  .wqet-result .details p {\n",
       "    margin: 0;\n",
       "  }\n",
       "</style>\n"
      ],
      "text/plain": [
       "<IPython.core.display.HTML object>"
      ]
     },
     "metadata": {},
     "output_type": "display_data"
    }
   ],
   "source": [
    "%load_ext autoreload\n",
    "%autoreload 2\n",
    "\n",
    "import os\n",
    "import sqlite3\n",
    "from glob import glob\n",
    "\n",
    "import joblib\n",
    "import pandas as pd\n",
    "import requests\n",
    "from arch.univariate.base import ARCHModelResult\n",
    "from config import settings\n",
    "from data import SQLRepository\n",
    "\n"
   ]
  },
  {
   "cell_type": "markdown",
   "id": "c2086d75-4525-4af3-a649-7e129a6b1679",
   "metadata": {
    "deletable": false,
    "editable": false
   },
   "source": [
    "# Model Module"
   ]
  },
  {
   "cell_type": "markdown",
   "id": "270de4f0-2f8b-41e2-9cb5-b324b130a22f",
   "metadata": {
    "deletable": true,
    "tags": []
   },
   "source": [
    "* Create a `SQLRepository` named `repo`. Be sure that it's attached to a SQLite connection.\n"
   ]
  },
  {
   "cell_type": "code",
   "execution_count": 2,
   "id": "58a0ee94-79d0-424f-b7ff-9253cc3443e8",
   "metadata": {
    "deletable": false
   },
   "outputs": [
    {
     "name": "stdout",
     "output_type": "stream",
     "text": [
      "repo type: <class 'data.SQLRepository'>\n",
      "repo.connection type: <class 'sqlite3.Connection'>\n"
     ]
    }
   ],
   "source": [
    "connection = sqlite3.connect(database=settings.db_name, check_same_thread=False)\n",
    "repo = SQLRepository(connection)\n",
    "\n",
    "print(\"repo type:\", type(repo))\n",
    "print(\"repo.connection type:\", type(repo.connection))"
   ]
  },
  {
   "cell_type": "markdown",
   "id": "2cf70acd-613f-44d3-b3a0-18c5c80afce5",
   "metadata": {
    "deletable": true,
    "tags": []
   },
   "source": [
    "* In the `model` module, create a definition for a `GarchModel` model class. For now, it should only have an `__init__` method. Use the docstring as a guide. When you're done, test your class using the assert statements below.\n"
   ]
  },
  {
   "cell_type": "code",
   "execution_count": 4,
   "id": "495d5150-5178-4976-92c3-4f12f2f29f34",
   "metadata": {
    "deletable": true,
    "editable": true,
    "tags": []
   },
   "outputs": [],
   "source": [
    "from model import GarchModel\n",
    "\n",
    "# Instantiate a `GarchModel`\n",
    "gm_ambuja = GarchModel(ticker=\"AMBUJACEM.BSE\", repo=repo, use_new_data=False)\n",
    "\n",
    "# Does `gm_ambuja` have the correct attributes?\n",
    "assert gm_ambuja.ticker == \"AMBUJACEM.BSE\"\n",
    "assert gm_ambuja.repo == repo\n",
    "assert not gm_ambuja.use_new_data\n",
    "assert gm_ambuja.model_directory == settings.model_directory"
   ]
  },
  {
   "cell_type": "markdown",
   "id": "3ccc64d2-c0ca-4a4a-8fae-60183b608d92",
   "metadata": {
    "deletable": true,
    "tags": []
   },
   "source": [
    "* Write a `wrangle_data` method for your `GarchModel` class. When you're done, use the assert statements below to test the method by getting and wrangling data for the department store [Shoppers Stop](https://www.shoppersstop.com/).\n"
   ]
  },
  {
   "cell_type": "code",
   "execution_count": 10,
   "id": "45915594-111e-480b-a22f-47ab46ef75c5",
   "metadata": {
    "deletable": true,
    "editable": true,
    "tags": []
   },
   "outputs": [
    {
     "data": {
      "text/plain": [
       "date\n",
       "2019-05-10    0.580758\n",
       "2019-05-13   -0.719033\n",
       "2019-05-14    0.801053\n",
       "2019-05-15   -1.012410\n",
       "2019-05-16   -1.077752\n",
       "Name: return, dtype: float64"
      ]
     },
     "execution_count": 10,
     "metadata": {},
     "output_type": "execute_result"
    }
   ],
   "source": [
    "# Instantiate `GarchModel`, use new data\n",
    "model_shop = GarchModel(ticker=\"SHOPERSTOP.BSE\", repo=repo, use_new_data=True)\n",
    "\n",
    "# Check that model doesn't have `data` attribute yet\n",
    "assert not hasattr(model_shop, \"data\")\n",
    "\n",
    "# Wrangle data\n",
    "model_shop.wrangle_data(n_observations=1000)\n",
    "\n",
    "# Does model now have `data` attribute?\n",
    "assert hasattr(model_shop, \"data\")\n",
    "\n",
    "# Is the `data` a Series?\n",
    "assert isinstance(model_shop.data, pd.Series)\n",
    "\n",
    "# Is Series correct shape?\n",
    "assert model_shop.data.shape == (1000,)\n",
    "\n",
    "model_shop.data.head()"
   ]
  },
  {
   "cell_type": "markdown",
   "id": "22d035b7-e081-4503-a7bc-617f35f4f6c4",
   "metadata": {
    "deletable": true,
    "tags": []
   },
   "source": [
    "* Create a `fit` method for your `GarchModel` class. When you're done, use the code below to test it.\n"
   ]
  },
  {
   "cell_type": "code",
   "execution_count": 37,
   "id": "23f66c6c-4975-41d0-8612-08b4791f969c",
   "metadata": {
    "deletable": true,
    "editable": true,
    "tags": []
   },
   "outputs": [
    {
     "data": {
      "text/html": [
       "<table class=\"simpletable\">\n",
       "<caption>Constant Mean - GARCH Model Results</caption>\n",
       "<tr>\n",
       "  <th>Dep. Variable:</th>       <td>return</td>       <th>  R-squared:         </th>  <td>   0.000</td> \n",
       "</tr>\n",
       "<tr>\n",
       "  <th>Mean Model:</th>       <td>Constant Mean</td>   <th>  Adj. R-squared:    </th>  <td>   0.000</td> \n",
       "</tr>\n",
       "<tr>\n",
       "  <th>Vol Model:</th>            <td>GARCH</td>       <th>  Log-Likelihood:    </th> <td>  -2430.56</td>\n",
       "</tr>\n",
       "<tr>\n",
       "  <th>Distribution:</th>        <td>Normal</td>       <th>  AIC:               </th> <td>   4869.12</td>\n",
       "</tr>\n",
       "<tr>\n",
       "  <th>Method:</th>        <td>Maximum Likelihood</td> <th>  BIC:               </th> <td>   4888.75</td>\n",
       "</tr>\n",
       "<tr>\n",
       "  <th></th>                        <td></td>          <th>  No. Observations:  </th>    <td>1000</td>   \n",
       "</tr>\n",
       "<tr>\n",
       "  <th>Date:</th>           <td>Tue, May 23 2023</td>  <th>  Df Residuals:      </th>     <td>999</td>   \n",
       "</tr>\n",
       "<tr>\n",
       "  <th>Time:</th>               <td>17:04:33</td>      <th>  Df Model:          </th>      <td>1</td>    \n",
       "</tr>\n",
       "</table>\n",
       "<table class=\"simpletable\">\n",
       "<caption>Mean Model</caption>\n",
       "<tr>\n",
       "   <td></td>     <th>coef</th>     <th>std err</th>      <th>t</th>       <th>P>|t|</th>     <th>95.0% Conf. Int.</th>  \n",
       "</tr>\n",
       "<tr>\n",
       "  <th>mu</th> <td>    0.1479</td> <td>7.621e-02</td> <td>    1.940</td> <td>5.234e-02</td> <td>[-1.494e-03,  0.297]</td>\n",
       "</tr>\n",
       "</table>\n",
       "<table class=\"simpletable\">\n",
       "<caption>Volatility Model</caption>\n",
       "<tr>\n",
       "      <td></td>        <th>coef</th>     <th>std err</th>      <th>t</th>        <th>P>|t|</th>     <th>95.0% Conf. Int.</th>   \n",
       "</tr>\n",
       "<tr>\n",
       "  <th>omega</th>    <td>    0.1520</td> <td>    0.133</td> <td>    1.145</td>  <td>    0.252</td>   <td>[ -0.108,  0.412]</td>  \n",
       "</tr>\n",
       "<tr>\n",
       "  <th>alpha[1]</th> <td>    0.0366</td> <td>1.763e-02</td> <td>    2.075</td>  <td>3.800e-02</td> <td>[2.025e-03,7.112e-02]</td>\n",
       "</tr>\n",
       "<tr>\n",
       "  <th>beta[1]</th>  <td>    0.9467</td> <td>2.922e-02</td> <td>   32.398</td> <td>2.923e-230</td>   <td>[  0.889,  1.004]</td>  \n",
       "</tr>\n",
       "</table><br/><br/>Covariance estimator: robust"
      ],
      "text/plain": [
       "<class 'statsmodels.iolib.summary.Summary'>\n",
       "\"\"\"\n",
       "                     Constant Mean - GARCH Model Results                      \n",
       "==============================================================================\n",
       "Dep. Variable:                 return   R-squared:                       0.000\n",
       "Mean Model:             Constant Mean   Adj. R-squared:                  0.000\n",
       "Vol Model:                      GARCH   Log-Likelihood:               -2430.56\n",
       "Distribution:                  Normal   AIC:                           4869.12\n",
       "Method:            Maximum Likelihood   BIC:                           4888.75\n",
       "                                        No. Observations:                 1000\n",
       "Date:                Tue, May 23 2023   Df Residuals:                      999\n",
       "Time:                        17:04:33   Df Model:                            1\n",
       "                                 Mean Model                                \n",
       "===========================================================================\n",
       "                 coef    std err          t      P>|t|     95.0% Conf. Int.\n",
       "---------------------------------------------------------------------------\n",
       "mu             0.1479  7.621e-02      1.940  5.234e-02 [-1.494e-03,  0.297]\n",
       "                              Volatility Model                              \n",
       "============================================================================\n",
       "                 coef    std err          t      P>|t|      95.0% Conf. Int.\n",
       "----------------------------------------------------------------------------\n",
       "omega          0.1520      0.133      1.145      0.252     [ -0.108,  0.412]\n",
       "alpha[1]       0.0366  1.763e-02      2.075  3.800e-02 [2.025e-03,7.112e-02]\n",
       "beta[1]        0.9467  2.922e-02     32.398 2.923e-230     [  0.889,  1.004]\n",
       "============================================================================\n",
       "\n",
       "Covariance estimator: robust\n",
       "\"\"\""
      ]
     },
     "execution_count": 37,
     "metadata": {},
     "output_type": "execute_result"
    }
   ],
   "source": [
    "# Instantiate `GarchModel`, use old data\n",
    "model_shop = GarchModel(ticker=\"SHOPERSTOP.BSE\", repo=repo, use_new_data=False)\n",
    "\n",
    "# Wrangle data\n",
    "model_shop.wrangle_data(n_observations=1000)\n",
    "\n",
    "# Fit GARCH(1,1) model to data\n",
    "model_shop.fit(p=1, q=1)\n",
    "\n",
    "# Does `model_shop` have a `model` attribute now?\n",
    "assert hasattr(model_shop, \"model\")\n",
    "\n",
    "# Is model correct data type?\n",
    "assert isinstance(model_shop.model, ARCHModelResult)\n",
    "\n",
    "# Does model have correct parameters?\n",
    "assert model_shop.model.params.index.tolist() == [\"mu\", \"omega\", \"alpha[1]\", \"beta[1]\"]\n",
    "\n",
    "# Check model parameters\n",
    "model_shop.model.summary()"
   ]
  },
  {
   "cell_type": "markdown",
   "id": "516bc14f-e0b5-43ea-922f-e93e468ebb83",
   "metadata": {
    "deletable": true,
    "tags": []
   },
   "source": [
    "* Create a `predict_volatility` method for your `GarchModel` class. Your method will need to return predictions as a dictionary, so you'll need to add your `clean_prediction` function as a helper method. When you're done, test your work using the assert statements below.\n"
   ]
  },
  {
   "cell_type": "code",
   "execution_count": 14,
   "id": "6f660ff5-7e5b-453f-b58f-aae6a9a68b9e",
   "metadata": {
    "deletable": false
   },
   "outputs": [
    {
     "data": {
      "text/plain": [
       "{'2023-05-23T00:00:00': 2.2561943178707318,\n",
       " '2023-05-24T00:00:00': 2.2710221665746224,\n",
       " '2023-05-25T00:00:00': 2.2855089413955323,\n",
       " '2023-05-26T00:00:00': 2.2996651469642324,\n",
       " '2023-05-29T00:00:00': 2.31350081877044}"
      ]
     },
     "execution_count": 14,
     "metadata": {},
     "output_type": "execute_result"
    }
   ],
   "source": [
    "# Generate prediction from `model_shop`\n",
    "prediction = model_shop.predict_volatility(horizon=5)\n",
    "\n",
    "# Is prediction a dictionary?\n",
    "assert isinstance(prediction, dict)\n",
    "\n",
    "# Are keys correct data type?\n",
    "assert all(isinstance(k, str) for k in prediction.keys())\n",
    "\n",
    "# Are values correct data type?\n",
    "assert all(isinstance(v, float) for v in prediction.values())\n",
    "\n",
    "prediction"
   ]
  },
  {
   "cell_type": "markdown",
   "id": "dcef0488-fb22-4984-a3e8-70f5d0fc5d54",
   "metadata": {
    "deletable": true,
    "tags": []
   },
   "source": [
    "* Create a `dump` method for your `GarchModel` class. It should save the model assigned to the `model` attribute to the folder specified in your configuration `settings`. Use the docstring as a guide, and then test your work below."
   ]
  },
  {
   "cell_type": "code",
   "execution_count": 18,
   "id": "0c826d54-906b-4d71-a679-cdcf613f59da",
   "metadata": {
    "deletable": false
   },
   "outputs": [
    {
     "data": {
      "text/plain": [
       "'models/2023-05-23T16:54:16.886223_SHOPERSTOP.BSE.pkl'"
      ]
     },
     "execution_count": 18,
     "metadata": {},
     "output_type": "execute_result"
    }
   ],
   "source": [
    "# Save `model_shop` model, assign filename\n",
    "filename = model_shop.dump()\n",
    "\n",
    "# Is `filename` a string?\n",
    "assert isinstance(filename, str)\n",
    "\n",
    "# Does filename include ticker symbol?\n",
    "assert model_shop.ticker in filename\n",
    "\n",
    "# Does file exist?\n",
    "assert os.path.exists(filename)\n",
    "\n",
    "filename"
   ]
  },
  {
   "cell_type": "markdown",
   "id": "db86446c-eb8e-406e-b15f-b582c99eba7d",
   "metadata": {
    "deletable": true,
    "tags": []
   },
   "source": [
    "* Create a `load` function below that will take a ticker symbol as input and return a model. When you're done, use the next cell to load the Shoppers Stop model you saved.\n"
   ]
  },
  {
   "cell_type": "code",
   "execution_count": 29,
   "id": "434c61cc-33a9-444e-9aac-62a33f8ed2e3",
   "metadata": {
    "deletable": false
   },
   "outputs": [],
   "source": [
    "def load(ticker):\n",
    "\n",
    "    \"\"\"Load latest model from model directory.\n",
    "\n",
    "    Parameters\n",
    "    ----------\n",
    "    ticker : str\n",
    "        Ticker symbol for which model was trained.\n",
    "\n",
    "    Returns\n",
    "    -------\n",
    "    `ARCHModelResult`\n",
    "    \"\"\"\n",
    "    # Create pattern for glob search\n",
    "    pattern = os.path.join(settings.model_directory, f\"*{ticker}.pkl\")\n",
    "\n",
    "    # Try to find path of latest model\n",
    "    try:\n",
    "        model_path = sorted(glob(pattern))[-1]\n",
    "        print(model_path)\n",
    "    # Handle possible `IndexError`\n",
    "    except IndexError:\n",
    "        raise Exception(f\"No model with {ticker}.\")\n",
    "\n",
    "    # Load model\n",
    "    model = joblib.load(model_path)\n",
    "\n",
    "    # Return model\n",
    "    return model"
   ]
  },
  {
   "cell_type": "code",
   "execution_count": 33,
   "id": "d576b75b-72da-42fb-8e77-02e17e8cd9f5",
   "metadata": {
    "deletable": false
   },
   "outputs": [
    {
     "name": "stdout",
     "output_type": "stream",
     "text": [
      "models/2023-05-23T16:54:16.886223_SHOPERSTOP.BSE.pkl\n"
     ]
    },
    {
     "data": {
      "text/html": [
       "<table class=\"simpletable\">\n",
       "<caption>Constant Mean - GARCH Model Results</caption>\n",
       "<tr>\n",
       "  <th>Dep. Variable:</th>       <td>return</td>       <th>  R-squared:         </th>  <td>   0.000</td> \n",
       "</tr>\n",
       "<tr>\n",
       "  <th>Mean Model:</th>       <td>Constant Mean</td>   <th>  Adj. R-squared:    </th>  <td>   0.000</td> \n",
       "</tr>\n",
       "<tr>\n",
       "  <th>Vol Model:</th>            <td>GARCH</td>       <th>  Log-Likelihood:    </th> <td>  -2430.56</td>\n",
       "</tr>\n",
       "<tr>\n",
       "  <th>Distribution:</th>        <td>Normal</td>       <th>  AIC:               </th> <td>   4869.12</td>\n",
       "</tr>\n",
       "<tr>\n",
       "  <th>Method:</th>        <td>Maximum Likelihood</td> <th>  BIC:               </th> <td>   4888.75</td>\n",
       "</tr>\n",
       "<tr>\n",
       "  <th></th>                        <td></td>          <th>  No. Observations:  </th>    <td>1000</td>   \n",
       "</tr>\n",
       "<tr>\n",
       "  <th>Date:</th>           <td>Tue, May 23 2023</td>  <th>  Df Residuals:      </th>     <td>999</td>   \n",
       "</tr>\n",
       "<tr>\n",
       "  <th>Time:</th>               <td>16:27:32</td>      <th>  Df Model:          </th>      <td>1</td>    \n",
       "</tr>\n",
       "</table>\n",
       "<table class=\"simpletable\">\n",
       "<caption>Mean Model</caption>\n",
       "<tr>\n",
       "   <td></td>     <th>coef</th>     <th>std err</th>      <th>t</th>       <th>P>|t|</th>     <th>95.0% Conf. Int.</th>  \n",
       "</tr>\n",
       "<tr>\n",
       "  <th>mu</th> <td>    0.1479</td> <td>7.621e-02</td> <td>    1.940</td> <td>5.234e-02</td> <td>[-1.494e-03,  0.297]</td>\n",
       "</tr>\n",
       "</table>\n",
       "<table class=\"simpletable\">\n",
       "<caption>Volatility Model</caption>\n",
       "<tr>\n",
       "      <td></td>        <th>coef</th>     <th>std err</th>      <th>t</th>        <th>P>|t|</th>     <th>95.0% Conf. Int.</th>   \n",
       "</tr>\n",
       "<tr>\n",
       "  <th>omega</th>    <td>    0.1520</td> <td>    0.133</td> <td>    1.145</td>  <td>    0.252</td>   <td>[ -0.108,  0.412]</td>  \n",
       "</tr>\n",
       "<tr>\n",
       "  <th>alpha[1]</th> <td>    0.0366</td> <td>1.763e-02</td> <td>    2.075</td>  <td>3.800e-02</td> <td>[2.025e-03,7.112e-02]</td>\n",
       "</tr>\n",
       "<tr>\n",
       "  <th>beta[1]</th>  <td>    0.9467</td> <td>2.922e-02</td> <td>   32.398</td> <td>2.923e-230</td>   <td>[  0.889,  1.004]</td>  \n",
       "</tr>\n",
       "</table><br/><br/>Covariance estimator: robust"
      ],
      "text/plain": [
       "<class 'statsmodels.iolib.summary.Summary'>\n",
       "\"\"\"\n",
       "                     Constant Mean - GARCH Model Results                      \n",
       "==============================================================================\n",
       "Dep. Variable:                 return   R-squared:                       0.000\n",
       "Mean Model:             Constant Mean   Adj. R-squared:                  0.000\n",
       "Vol Model:                      GARCH   Log-Likelihood:               -2430.56\n",
       "Distribution:                  Normal   AIC:                           4869.12\n",
       "Method:            Maximum Likelihood   BIC:                           4888.75\n",
       "                                        No. Observations:                 1000\n",
       "Date:                Tue, May 23 2023   Df Residuals:                      999\n",
       "Time:                        16:27:32   Df Model:                            1\n",
       "                                 Mean Model                                \n",
       "===========================================================================\n",
       "                 coef    std err          t      P>|t|     95.0% Conf. Int.\n",
       "---------------------------------------------------------------------------\n",
       "mu             0.1479  7.621e-02      1.940  5.234e-02 [-1.494e-03,  0.297]\n",
       "                              Volatility Model                              \n",
       "============================================================================\n",
       "                 coef    std err          t      P>|t|      95.0% Conf. Int.\n",
       "----------------------------------------------------------------------------\n",
       "omega          0.1520      0.133      1.145      0.252     [ -0.108,  0.412]\n",
       "alpha[1]       0.0366  1.763e-02      2.075  3.800e-02 [2.025e-03,7.112e-02]\n",
       "beta[1]        0.9467  2.922e-02     32.398 2.923e-230     [  0.889,  1.004]\n",
       "============================================================================\n",
       "\n",
       "Covariance estimator: robust\n",
       "\"\"\""
      ]
     },
     "execution_count": 33,
     "metadata": {},
     "output_type": "execute_result"
    }
   ],
   "source": [
    "# Assign load output to `model`\n",
    "model_shop = load(ticker=\"SHOPERSTOP.BSE\")\n",
    "\n",
    "# Does function return an `ARCHModelResult`\n",
    "assert isinstance(model_shop, ARCHModelResult)\n",
    "\n",
    "# Check model parameters\n",
    "model_shop.summary()"
   ]
  },
  {
   "cell_type": "markdown",
   "id": "ede77d01-4ada-4a23-a382-eb10c9479eb8",
   "metadata": {
    "deletable": true,
    "tags": []
   },
   "source": [
    "* Transform your `load` function into a method for your `GarchModel` class. When you're done, test the method using the assert statements below.\n"
   ]
  },
  {
   "cell_type": "code",
   "execution_count": 5,
   "id": "0f5660cf-1069-40d0-91f5-6335319e2618",
   "metadata": {
    "deletable": false
   },
   "outputs": [
    {
     "name": "stdout",
     "output_type": "stream",
     "text": [
      "models/2023-05-23T16:54:16.886223_SHOPERSTOP.BSE.pkl\n"
     ]
    },
    {
     "data": {
      "text/html": [
       "<table class=\"simpletable\">\n",
       "<caption>Constant Mean - GARCH Model Results</caption>\n",
       "<tr>\n",
       "  <th>Dep. Variable:</th>       <td>return</td>       <th>  R-squared:         </th>  <td>   0.000</td> \n",
       "</tr>\n",
       "<tr>\n",
       "  <th>Mean Model:</th>       <td>Constant Mean</td>   <th>  Adj. R-squared:    </th>  <td>   0.000</td> \n",
       "</tr>\n",
       "<tr>\n",
       "  <th>Vol Model:</th>            <td>GARCH</td>       <th>  Log-Likelihood:    </th> <td>  -2430.56</td>\n",
       "</tr>\n",
       "<tr>\n",
       "  <th>Distribution:</th>        <td>Normal</td>       <th>  AIC:               </th> <td>   4869.12</td>\n",
       "</tr>\n",
       "<tr>\n",
       "  <th>Method:</th>        <td>Maximum Likelihood</td> <th>  BIC:               </th> <td>   4888.75</td>\n",
       "</tr>\n",
       "<tr>\n",
       "  <th></th>                        <td></td>          <th>  No. Observations:  </th>    <td>1000</td>   \n",
       "</tr>\n",
       "<tr>\n",
       "  <th>Date:</th>           <td>Tue, May 23 2023</td>  <th>  Df Residuals:      </th>     <td>999</td>   \n",
       "</tr>\n",
       "<tr>\n",
       "  <th>Time:</th>               <td>16:27:32</td>      <th>  Df Model:          </th>      <td>1</td>    \n",
       "</tr>\n",
       "</table>\n",
       "<table class=\"simpletable\">\n",
       "<caption>Mean Model</caption>\n",
       "<tr>\n",
       "   <td></td>     <th>coef</th>     <th>std err</th>      <th>t</th>       <th>P>|t|</th>     <th>95.0% Conf. Int.</th>  \n",
       "</tr>\n",
       "<tr>\n",
       "  <th>mu</th> <td>    0.1479</td> <td>7.621e-02</td> <td>    1.940</td> <td>5.234e-02</td> <td>[-1.494e-03,  0.297]</td>\n",
       "</tr>\n",
       "</table>\n",
       "<table class=\"simpletable\">\n",
       "<caption>Volatility Model</caption>\n",
       "<tr>\n",
       "      <td></td>        <th>coef</th>     <th>std err</th>      <th>t</th>        <th>P>|t|</th>     <th>95.0% Conf. Int.</th>   \n",
       "</tr>\n",
       "<tr>\n",
       "  <th>omega</th>    <td>    0.1520</td> <td>    0.133</td> <td>    1.145</td>  <td>    0.252</td>   <td>[ -0.108,  0.412]</td>  \n",
       "</tr>\n",
       "<tr>\n",
       "  <th>alpha[1]</th> <td>    0.0366</td> <td>1.763e-02</td> <td>    2.075</td>  <td>3.800e-02</td> <td>[2.025e-03,7.112e-02]</td>\n",
       "</tr>\n",
       "<tr>\n",
       "  <th>beta[1]</th>  <td>    0.9467</td> <td>2.922e-02</td> <td>   32.398</td> <td>2.923e-230</td>   <td>[  0.889,  1.004]</td>  \n",
       "</tr>\n",
       "</table><br/><br/>Covariance estimator: robust"
      ],
      "text/plain": [
       "<class 'statsmodels.iolib.summary.Summary'>\n",
       "\"\"\"\n",
       "                     Constant Mean - GARCH Model Results                      \n",
       "==============================================================================\n",
       "Dep. Variable:                 return   R-squared:                       0.000\n",
       "Mean Model:             Constant Mean   Adj. R-squared:                  0.000\n",
       "Vol Model:                      GARCH   Log-Likelihood:               -2430.56\n",
       "Distribution:                  Normal   AIC:                           4869.12\n",
       "Method:            Maximum Likelihood   BIC:                           4888.75\n",
       "                                        No. Observations:                 1000\n",
       "Date:                Tue, May 23 2023   Df Residuals:                      999\n",
       "Time:                        16:27:32   Df Model:                            1\n",
       "                                 Mean Model                                \n",
       "===========================================================================\n",
       "                 coef    std err          t      P>|t|     95.0% Conf. Int.\n",
       "---------------------------------------------------------------------------\n",
       "mu             0.1479  7.621e-02      1.940  5.234e-02 [-1.494e-03,  0.297]\n",
       "                              Volatility Model                              \n",
       "============================================================================\n",
       "                 coef    std err          t      P>|t|      95.0% Conf. Int.\n",
       "----------------------------------------------------------------------------\n",
       "omega          0.1520      0.133      1.145      0.252     [ -0.108,  0.412]\n",
       "alpha[1]       0.0366  1.763e-02      2.075  3.800e-02 [2.025e-03,7.112e-02]\n",
       "beta[1]        0.9467  2.922e-02     32.398 2.923e-230     [  0.889,  1.004]\n",
       "============================================================================\n",
       "\n",
       "Covariance estimator: robust\n",
       "\"\"\""
      ]
     },
     "execution_count": 5,
     "metadata": {},
     "output_type": "execute_result"
    }
   ],
   "source": [
    "model_shop = GarchModel(ticker=\"SHOPERSTOP.BSE\", repo=repo, use_new_data=False)\n",
    "\n",
    "# Check that new `model_shop_test` doesn't have model attached\n",
    "assert not hasattr(model_shop, \"model\")\n",
    "\n",
    "# Load model\n",
    "model_shop.load()\n",
    "\n",
    "# Does `model_shop_test` have model attached?\n",
    "assert hasattr(model_shop, \"model\")\n",
    "\n",
    "model_shop.model.summary()"
   ]
  },
  {
   "cell_type": "markdown",
   "id": "1e079186-3142-404b-b0b8-a57569f3ed1b",
   "metadata": {
    "deletable": true,
    "tags": []
   },
   "source": [
    "Our `model` module is done! Now it's time to move on to the \"main\" course and add the final piece to our application."
   ]
  },
  {
   "cell_type": "markdown",
   "id": "04e70a0f-e756-4117-b153-29b814f50ac4",
   "metadata": {
    "deletable": false,
    "editable": false
   },
   "source": [
    "# Main Module"
   ]
  },
  {
   "cell_type": "markdown",
   "id": "d735900d-f86a-48eb-8f8a-be8b5555124a",
   "metadata": {
    "deletable": true,
    "tags": []
   },
   "source": [
    "* In the `main` module, instantiate a FastAPI application named `app`.\n",
    "\n"
   ]
  },
  {
   "cell_type": "markdown",
   "id": "7f74fb5d-a5df-4a5a-af40-b5466fbf7b8e",
   "metadata": {
    "deletable": true,
    "tags": []
   },
   "source": [
    "* Go to the command line, navigate to the directory for this project, and start your app server by entering the following command.\n",
    "\n",
    "```bash\n",
    "uvicorn main:app --reload --workers 1 --host localhost --port 8008\n",
    "```"
   ]
  },
  {
   "cell_type": "markdown",
   "id": "f30ebd95-1f26-435e-90d3-46a3b5ac1fb5",
   "metadata": {
    "deletable": true,
    "tags": []
   },
   "source": [
    "Remember how the AlphaVantage API had a `\"/query\"` path that we accessed using a `get` HTTP request? We're going to build similar paths for our application. Let's start with an MVP example so we can learn how paths work in FastAPI. "
   ]
  },
  {
   "cell_type": "markdown",
   "id": "93066262-a4be-4cfa-98ad-140dfcc08c25",
   "metadata": {
    "deletable": true,
    "tags": []
   },
   "source": [
    "* Create a `\"/hello\"` path for your app that returns a greeting when it receives a `get` request.\n",
    "\n"
   ]
  },
  {
   "cell_type": "markdown",
   "id": "fe7ad99d-06b4-40bc-95b3-2e8dadd1ae2a",
   "metadata": {
    "deletable": true,
    "tags": []
   },
   "source": [
    "We've got our path. Let's perform as `get` request to see if it works."
   ]
  },
  {
   "cell_type": "markdown",
   "id": "29f92bb4-cfc1-44d6-9058-6285a3ad1423",
   "metadata": {
    "deletable": true,
    "tags": []
   },
   "source": [
    "* Create a `get` request to hit the `\"/hello\"` path running at `\"http://localhost:8008\"`.\n"
   ]
  },
  {
   "cell_type": "code",
   "execution_count": 10,
   "id": "407d13f7-5f2b-445d-b3f1-38b77f109311",
   "metadata": {
    "deletable": false
   },
   "outputs": [
    {
     "name": "stdout",
     "output_type": "stream",
     "text": [
      "response code: 200\n"
     ]
    },
    {
     "data": {
      "text/plain": [
       "{'message': 'Hello :)'}"
      ]
     },
     "execution_count": 10,
     "metadata": {},
     "output_type": "execute_result"
    }
   ],
   "source": [
    "url = \"http://localhost:8008/hello\"\n",
    "response = requests.get(url)\n",
    "\n",
    "print(\"response code:\", response.status_code)\n",
    "response.json()"
   ]
  },
  {
   "cell_type": "markdown",
   "id": "3ba4b53b-165c-48b5-85dc-e8afbd22fccd",
   "metadata": {
    "deletable": false,
    "editable": false,
    "tags": []
   },
   "source": [
    "## `\"/fit\"` Path"
   ]
  },
  {
   "cell_type": "markdown",
   "id": "023c99b6-3b40-4b49-ae9d-7a5bf86a5d0a",
   "metadata": {
    "deletable": true,
    "tags": []
   },
   "source": [
    "Our first path will allow the user to fit a model to stock data when they make a `post` request to our server. They'll have the choice to use new data from AlphaVantage, or older data that's already in our database. When a user makes a request, they'll receive a response telling them if the operation was successful or whether there was an error. \n",
    "\n",
    "One thing that's very important when building an API is making sure the user passes the correct parameters into the app. Otherwise, our app could crash! FastAPI works well with the [pydantic library](https://pydantic-docs.helpmanual.io/), which checks that each request has the correct parameters and data types. It does this by using special data classes that we need to define. Our `\"/fit\"` path will take user input and then output a response, so we need two classes: one for input and one for output."
   ]
  },
  {
   "cell_type": "markdown",
   "id": "c389fbc0-2984-48c4-a219-eef13cd2c785",
   "metadata": {
    "deletable": true,
    "tags": []
   },
   "source": [
    "* Create definitions for a `FitIn` and a `FitOut` data class. The `FitIn` class should inherit from the pydantic `BaseClass`, and the `FitOut` class should inherit from the `FitIn` class. Be sure to include type hints.\n"
   ]
  },
  {
   "cell_type": "markdown",
   "id": "443a2c65-a73a-4e98-9760-4272ea6d92a6",
   "metadata": {
    "deletable": true,
    "tags": []
   },
   "source": [
    "With our data classes defined, let's see how pydantic ensures our that users are supplying the correct input and our application is returning the correct output."
   ]
  },
  {
   "cell_type": "markdown",
   "id": "6c736125-ae93-4da1-83b7-8b8d35f11184",
   "metadata": {
    "deletable": true,
    "tags": []
   },
   "source": [
    "* Use the code below to experiment with your `FitIn` and `FitOut` classes. Under what circumstances does instantiating them throw errors? What class or classes are they instances of?\n"
   ]
  },
  {
   "cell_type": "code",
   "execution_count": 17,
   "id": "1f5ca4fb-92d8-4d00-b62d-415198a9108c",
   "metadata": {
    "deletable": false
   },
   "outputs": [
    {
     "name": "stdout",
     "output_type": "stream",
     "text": [
      "ticker='SHOPERSTOP.BSE' use_new_data=True n_observations=2000 p=1 q=1\n",
      "ticker='SHOPERSTOP.BSE' use_new_data=True n_observations=2000 p=1 q=1 success=True message='Ready'\n"
     ]
    }
   ],
   "source": [
    "from main import FitIn, FitOut\n",
    "\n",
    "# Instantiate `FitIn`. Play with parameters.\n",
    "fi = FitIn(\n",
    "    ticker=\"SHOPERSTOP.BSE\",\n",
    "    use_new_data=True,\n",
    "    n_observations=2000,\n",
    "    p=1,\n",
    "    q=1\n",
    ")\n",
    "print(fi)\n",
    "\n",
    "# Instantiate `FitOut`. Play with parameters.\n",
    "fo = FitOut(\n",
    "    ticker=\"SHOPERSTOP.BSE\",\n",
    "    use_new_data=True,\n",
    "    n_observations=2000,\n",
    "    p=1,\n",
    "    q=1,\n",
    "    success=True,\n",
    "    message=\"Ready\"\n",
    ")\n",
    "print(fo)"
   ]
  },
  {
   "cell_type": "markdown",
   "id": "ae692a6e-9f2b-4487-bf7d-ed81d0cce720",
   "metadata": {
    "deletable": true,
    "tags": []
   },
   "source": [
    "* Create a `build_model` function in your `main` module. Use the docstring as a guide, and test your function below.\n"
   ]
  },
  {
   "cell_type": "code",
   "execution_count": 20,
   "id": "17935f72-a4a2-457a-944c-c6845c78d134",
   "metadata": {
    "deletable": false
   },
   "outputs": [
    {
     "data": {
      "text/plain": [
       "<model.GarchModel at 0x7f0e2690b3a0>"
      ]
     },
     "execution_count": 20,
     "metadata": {},
     "output_type": "execute_result"
    }
   ],
   "source": [
    "from main import build_model\n",
    "\n",
    "# Instantiate `GarchModel` with function\n",
    "model_shop = build_model(ticker=\"SHOPERSTOP.BSE\", use_new_data=False)\n",
    "\n",
    "# Is `SQLRepository` attached to `model_shop`?\n",
    "assert isinstance(model_shop.repo, SQLRepository)\n",
    "\n",
    "# Is SQLite database attached to `SQLRepository`\n",
    "assert isinstance(model_shop.repo.connection, sqlite3.Connection)\n",
    "\n",
    "# Is `ticker` attribute correct?\n",
    "assert model_shop.ticker == \"SHOPERSTOP.BSE\"\n",
    "\n",
    "# Is `use_new_data` attribute correct?\n",
    "assert not model_shop.use_new_data\n",
    "\n",
    "model_shop"
   ]
  },
  {
   "cell_type": "markdown",
   "id": "8a826b5f-b5f7-41ec-90b4-5d81888409b9",
   "metadata": {
    "deletable": true,
    "tags": []
   },
   "source": [
    "We've got data classes, we've got a `build_model` function, and all that's left is to build the `\"/fit\"` path. We'll use our `\"/hello\"` path as a template, but we'll need to include more features, like error handling. "
   ]
  },
  {
   "cell_type": "markdown",
   "id": "716c0a4f-f3ef-478b-994b-d96b555eddfc",
   "metadata": {
    "deletable": true,
    "tags": []
   },
   "source": [
    "* Create a `\"/fit\"` path for your `app`. It will take a `FitIn` object as input, and then build a `GarchModel` using the `build_model` function. The model will wrangle the needed data, fit to the data, and save the completed model. Finally, it will send a response in the form of a `FitOut` object. Be sure to handle any errors that may arise. \n",
    "\n"
   ]
  },
  {
   "cell_type": "markdown",
   "id": "bf5b6cf2-4916-4497-8150-be586ef2735e",
   "metadata": {
    "deletable": true,
    "tags": []
   },
   "source": [
    "Last step! Let's make a `post` request and see how our app responds."
   ]
  },
  {
   "cell_type": "markdown",
   "id": "610bf3eb-7018-49bb-9b83-a14860b0a11e",
   "metadata": {
    "deletable": true,
    "tags": []
   },
   "source": [
    "* Create a `post` request to hit the `\"/fit\"` path running at `\"http://localhost:8008\"`. You should train a GARCH(1,1) model on 2000 observations of the Shoppers Stop data you already downloaded. Pass in your parameters as a dictionary using the `json` argument.\n"
   ]
  },
  {
   "cell_type": "code",
   "execution_count": 30,
   "id": "bc0a6664-07f3-4850-80fc-ca33b9d57ae1",
   "metadata": {
    "deletable": false
   },
   "outputs": [
    {
     "name": "stdout",
     "output_type": "stream",
     "text": [
      "response code: 200\n"
     ]
    },
    {
     "data": {
      "text/plain": [
       "{'ticker': 'SHOPERSTOP.BSE',\n",
       " 'use_new_data': False,\n",
       " 'n_observations': 2000,\n",
       " 'p': 1,\n",
       " 'q': 1,\n",
       " 'success': True,\n",
       " 'message': 'Trained and saved models/2023-05-23T20:47:53.691047_SHOPERSTOP.BSE.pkl'}"
      ]
     },
     "execution_count": 30,
     "metadata": {},
     "output_type": "execute_result"
    }
   ],
   "source": [
    "# URL of `/fit` path\n",
    "url =  \"http://localhost:8008/fit\"\n",
    "\n",
    "# Data to send to path\n",
    "json = {\n",
    "    \"ticker\": \"SHOPERSTOP.BSE\",\n",
    "    \"use_new_data\": False,\n",
    "    \"n_observations\": 2000,\n",
    "    \"p\": 1,\n",
    "    \"q\": 1\n",
    "}\n",
    "# Response of post request\n",
    "response = requests.post(url=url, json=json)\n",
    "# Inspect response\n",
    "print(\"response code:\", response.status_code)\n",
    "response.json()"
   ]
  },
  {
   "cell_type": "markdown",
   "id": "f804ea6a-cec0-4d1e-b991-740190cc705d",
   "metadata": {
    "deletable": false,
    "editable": false
   },
   "source": [
    "## `\"/predict\"` Path"
   ]
  },
  {
   "cell_type": "markdown",
   "id": "0efccd4d-8219-4b22-a30d-664996912460",
   "metadata": {
    "deletable": true,
    "editable": true,
    "tags": []
   },
   "source": [
    "For our `\"/predict\"` path, users will be able to make a `post` request with the ticker symbol they want a prediction for and the number of days they want to forecast into the future. Our app will return a forecast or, if there's an error, a message explaining the problem.\n",
    "\n",
    "The setup will be very similar to our `\"/fit\"` path. We'll start with data classes for the in- and output."
   ]
  },
  {
   "cell_type": "markdown",
   "id": "fceb1f5d-6083-44e2-b07b-86c561afdb7f",
   "metadata": {
    "deletable": true,
    "tags": []
   },
   "source": [
    "* Create definitions for a `PredictIn` and `PredictOut` data class. The `PredictIn` class should inherit from the pydantic `BaseModel`, and the `PredictOut` class should inherit from the `PredictIn` class. Be sure to include type hints. The use the code below to test your classes.\n"
   ]
  },
  {
   "cell_type": "code",
   "execution_count": 32,
   "id": "1f5a98e6-049a-4972-84a9-50fe26cc75cf",
   "metadata": {
    "deletable": false
   },
   "outputs": [
    {
     "name": "stdout",
     "output_type": "stream",
     "text": [
      "ticker='SHOPERSTOP.BSE' n_days=5\n",
      "ticker='SHOPERSTOP.BSE' n_days=5 success=True forecast={} message='success'\n"
     ]
    }
   ],
   "source": [
    "from main import PredictIn, PredictOut\n",
    "\n",
    "pi = PredictIn(ticker=\"SHOPERSTOP.BSE\", n_days=5)\n",
    "print(pi)\n",
    "\n",
    "po = PredictOut(\n",
    "    ticker=\"SHOPERSTOP.BSE\", n_days=5, success=True, forecast={}, message=\"success\"\n",
    ")\n",
    "print(po)"
   ]
  },
  {
   "cell_type": "markdown",
   "id": "c33a4264-956a-4333-908e-980a9140311a",
   "metadata": {
    "deletable": true,
    "tags": []
   },
   "source": [
    "* Create a `\"/predict\"` path for your `app`. It will take a `PredictIn` object as input, build a `GarchModel`, load the most recent trained model for the given ticker, and generate a dictionary of predictions. It will then return a `PredictOut` object with the predictions included. Be sure to handle any errors that may arise.\n"
   ]
  },
  {
   "cell_type": "markdown",
   "id": "45f9966d-545d-4e74-9c8e-9b6a22fe5297",
   "metadata": {
    "deletable": true,
    "tags": []
   },
   "source": [
    "* Create a `post` request to hit the `\"/predict\"` path running at `\"http://localhost:8008\"`. You should get the 5-day volatility forecast for Shoppers Stop. When you're satisfied, submit your work to the grader.\n"
   ]
  },
  {
   "cell_type": "code",
   "execution_count": 44,
   "id": "367a91bd-88ea-4a86-b90c-0f9e4c739197",
   "metadata": {
    "deletable": false
   },
   "outputs": [
    {
     "data": {
      "text/plain": [
       "{'ticker': 'SHOPERSTOP.BSE',\n",
       " 'n_days': 5,\n",
       " 'success': True,\n",
       " 'forecast': {'2023-05-23T00:00:00': 2.0578735128364825,\n",
       "  '2023-05-24T00:00:00': 2.0699589780160834,\n",
       "  '2023-05-25T00:00:00': 2.081761772547934,\n",
       "  '2023-05-26T00:00:00': 2.0932904268523296,\n",
       "  '2023-05-29T00:00:00': 2.1045531089047587},\n",
       " 'message': ''}"
      ]
     },
     "execution_count": 44,
     "metadata": {},
     "output_type": "execute_result"
    }
   ],
   "source": [
    "# URL of `/predict` path\n",
    "url = \"http://localhost:8080/predict\"\n",
    "# Data to send to path\n",
    "json = {\n",
    "    \"ticker\": \"SHOPERSTOP.BSE\",\n",
    "    \"n_days\": 5\n",
    "}\n",
    "# Response of post request\n",
    "response = requests.post(url=url, json=json)\n",
    "# Response JSON to be submitted to grader\n",
    "submission = response.json()\n",
    "# Inspect JSON\n",
    "submission"
   ]
  }
 ],
 "metadata": {
  "kernelspec": {
   "display_name": "Python 3",
   "language": "python",
   "name": "python3"
  },
  "language_info": {
   "codemirror_mode": {
    "name": "ipython",
    "version": 3
   },
   "file_extension": ".py",
   "mimetype": "text/x-python",
   "name": "python",
   "nbconvert_exporter": "python",
   "pygments_lexer": "ipython3",
   "version": "3.8.2"
  },
  "widgets": {
   "application/vnd.jupyter.widget-state+json": {
    "state": {},
    "version_major": 2,
    "version_minor": 0
   }
  }
 },
 "nbformat": 4,
 "nbformat_minor": 5
}
